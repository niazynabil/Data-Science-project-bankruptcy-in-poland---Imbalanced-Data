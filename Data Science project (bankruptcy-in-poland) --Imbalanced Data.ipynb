{
 "cells": [
  {
   "cell_type": "markdown",
   "id": "e8c7ac59",
   "metadata": {},
   "source": [
    "# Data Science project  (bankruptcy-in-poland)   --Imbalanced Data"
   ]
  },
  {
   "cell_type": "markdown",
   "id": "abd39a33",
   "metadata": {},
   "source": [
    "explore some of the features of the dataset, use visualizations to help us understand those features, and develop a model that solves the problem of imbalanced data by under- and over-sampling."
   ]
  },
  {
   "cell_type": "code",
   "execution_count": 1,
   "id": "bf519dce",
   "metadata": {},
   "outputs": [],
   "source": [
    "#import liberaries\n",
    "import numpy as np\n",
    "from scipy.io import arff\n",
    "import matplotlib.pyplot as plt\n",
    "import pandas as pd\n",
    "import seaborn as sns\n",
    "from imblearn.over_sampling import RandomOverSampler\n",
    "from imblearn.under_sampling import RandomUnderSampler\n",
    "from IPython.display import VimeoVideo\n",
    "from sklearn.impute import SimpleImputer\n",
    "from sklearn.metrics import ConfusionMatrixDisplay\n",
    "from sklearn.model_selection import train_test_split\n",
    "from sklearn.pipeline import make_pipeline\n",
    "from sklearn.tree import DecisionTreeClassifier"
   ]
  },
  {
   "cell_type": "markdown",
   "id": "5013b0b3",
   "metadata": {},
   "source": [
    "# Prepare Data\n",
    "\n",
    "\n"
   ]
  },
  {
   "cell_type": "markdown",
   "id": "ba46feab",
   "metadata": {},
   "source": [
    "# Import"
   ]
  },
  {
   "cell_type": "code",
   "execution_count": 2,
   "id": "4e22d2e4",
   "metadata": {},
   "outputs": [],
   "source": [
    "data=arff.loadarff(\"./Downloads/3year.arff\")"
   ]
  },
  {
   "cell_type": "code",
   "execution_count": 3,
   "id": "776d6acc",
   "metadata": {},
   "outputs": [],
   "source": [
    "df=pd.DataFrame(data[0])"
   ]
  },
  {
   "cell_type": "code",
   "execution_count": 4,
   "id": "c57df948",
   "metadata": {
    "scrolled": true
   },
   "outputs": [
    {
     "data": {
      "text/html": [
       "<div>\n",
       "<style scoped>\n",
       "    .dataframe tbody tr th:only-of-type {\n",
       "        vertical-align: middle;\n",
       "    }\n",
       "\n",
       "    .dataframe tbody tr th {\n",
       "        vertical-align: top;\n",
       "    }\n",
       "\n",
       "    .dataframe thead th {\n",
       "        text-align: right;\n",
       "    }\n",
       "</style>\n",
       "<table border=\"1\" class=\"dataframe\">\n",
       "  <thead>\n",
       "    <tr style=\"text-align: right;\">\n",
       "      <th></th>\n",
       "      <th>Attr1</th>\n",
       "      <th>Attr2</th>\n",
       "      <th>Attr3</th>\n",
       "      <th>Attr4</th>\n",
       "      <th>Attr5</th>\n",
       "      <th>Attr6</th>\n",
       "      <th>Attr7</th>\n",
       "      <th>Attr8</th>\n",
       "      <th>Attr9</th>\n",
       "      <th>Attr10</th>\n",
       "      <th>...</th>\n",
       "      <th>Attr56</th>\n",
       "      <th>Attr57</th>\n",
       "      <th>Attr58</th>\n",
       "      <th>Attr59</th>\n",
       "      <th>Attr60</th>\n",
       "      <th>Attr61</th>\n",
       "      <th>Attr62</th>\n",
       "      <th>Attr63</th>\n",
       "      <th>Attr64</th>\n",
       "      <th>class</th>\n",
       "    </tr>\n",
       "  </thead>\n",
       "  <tbody>\n",
       "    <tr>\n",
       "      <th>0</th>\n",
       "      <td>0.174190</td>\n",
       "      <td>0.41299</td>\n",
       "      <td>0.14371</td>\n",
       "      <td>1.3480</td>\n",
       "      <td>-28.9820</td>\n",
       "      <td>0.60383</td>\n",
       "      <td>0.219460</td>\n",
       "      <td>1.1225</td>\n",
       "      <td>1.1961</td>\n",
       "      <td>0.46359</td>\n",
       "      <td>...</td>\n",
       "      <td>0.163960</td>\n",
       "      <td>0.375740</td>\n",
       "      <td>0.83604</td>\n",
       "      <td>0.000007</td>\n",
       "      <td>9.7145</td>\n",
       "      <td>6.2813</td>\n",
       "      <td>84.291</td>\n",
       "      <td>4.3303</td>\n",
       "      <td>4.0341</td>\n",
       "      <td>b'0'</td>\n",
       "    </tr>\n",
       "    <tr>\n",
       "      <th>1</th>\n",
       "      <td>0.146240</td>\n",
       "      <td>0.46038</td>\n",
       "      <td>0.28230</td>\n",
       "      <td>1.6294</td>\n",
       "      <td>2.5952</td>\n",
       "      <td>0.00000</td>\n",
       "      <td>0.171850</td>\n",
       "      <td>1.1721</td>\n",
       "      <td>1.6018</td>\n",
       "      <td>0.53962</td>\n",
       "      <td>...</td>\n",
       "      <td>0.027516</td>\n",
       "      <td>0.271000</td>\n",
       "      <td>0.90108</td>\n",
       "      <td>0.000000</td>\n",
       "      <td>5.9882</td>\n",
       "      <td>4.1103</td>\n",
       "      <td>102.190</td>\n",
       "      <td>3.5716</td>\n",
       "      <td>5.9500</td>\n",
       "      <td>b'0'</td>\n",
       "    </tr>\n",
       "    <tr>\n",
       "      <th>2</th>\n",
       "      <td>0.000595</td>\n",
       "      <td>0.22612</td>\n",
       "      <td>0.48839</td>\n",
       "      <td>3.1599</td>\n",
       "      <td>84.8740</td>\n",
       "      <td>0.19114</td>\n",
       "      <td>0.004572</td>\n",
       "      <td>2.9881</td>\n",
       "      <td>1.0077</td>\n",
       "      <td>0.67566</td>\n",
       "      <td>...</td>\n",
       "      <td>0.007639</td>\n",
       "      <td>0.000881</td>\n",
       "      <td>0.99236</td>\n",
       "      <td>0.000000</td>\n",
       "      <td>6.7742</td>\n",
       "      <td>3.7922</td>\n",
       "      <td>64.846</td>\n",
       "      <td>5.6287</td>\n",
       "      <td>4.4581</td>\n",
       "      <td>b'0'</td>\n",
       "    </tr>\n",
       "    <tr>\n",
       "      <th>3</th>\n",
       "      <td>0.024526</td>\n",
       "      <td>0.43236</td>\n",
       "      <td>0.27546</td>\n",
       "      <td>1.7833</td>\n",
       "      <td>-10.1050</td>\n",
       "      <td>0.56944</td>\n",
       "      <td>0.024526</td>\n",
       "      <td>1.3057</td>\n",
       "      <td>1.0509</td>\n",
       "      <td>0.56453</td>\n",
       "      <td>...</td>\n",
       "      <td>0.048398</td>\n",
       "      <td>0.043445</td>\n",
       "      <td>0.95160</td>\n",
       "      <td>0.142980</td>\n",
       "      <td>4.2286</td>\n",
       "      <td>5.0528</td>\n",
       "      <td>98.783</td>\n",
       "      <td>3.6950</td>\n",
       "      <td>3.4844</td>\n",
       "      <td>b'0'</td>\n",
       "    </tr>\n",
       "    <tr>\n",
       "      <th>4</th>\n",
       "      <td>0.188290</td>\n",
       "      <td>0.41504</td>\n",
       "      <td>0.34231</td>\n",
       "      <td>1.9279</td>\n",
       "      <td>-58.2740</td>\n",
       "      <td>0.00000</td>\n",
       "      <td>0.233580</td>\n",
       "      <td>1.4094</td>\n",
       "      <td>1.3393</td>\n",
       "      <td>0.58496</td>\n",
       "      <td>...</td>\n",
       "      <td>0.176480</td>\n",
       "      <td>0.321880</td>\n",
       "      <td>0.82635</td>\n",
       "      <td>0.073039</td>\n",
       "      <td>2.5912</td>\n",
       "      <td>7.0756</td>\n",
       "      <td>100.540</td>\n",
       "      <td>3.6303</td>\n",
       "      <td>4.6375</td>\n",
       "      <td>b'0'</td>\n",
       "    </tr>\n",
       "  </tbody>\n",
       "</table>\n",
       "<p>5 rows × 65 columns</p>\n",
       "</div>"
      ],
      "text/plain": [
       "      Attr1    Attr2    Attr3   Attr4    Attr5    Attr6     Attr7   Attr8  \\\n",
       "0  0.174190  0.41299  0.14371  1.3480 -28.9820  0.60383  0.219460  1.1225   \n",
       "1  0.146240  0.46038  0.28230  1.6294   2.5952  0.00000  0.171850  1.1721   \n",
       "2  0.000595  0.22612  0.48839  3.1599  84.8740  0.19114  0.004572  2.9881   \n",
       "3  0.024526  0.43236  0.27546  1.7833 -10.1050  0.56944  0.024526  1.3057   \n",
       "4  0.188290  0.41504  0.34231  1.9279 -58.2740  0.00000  0.233580  1.4094   \n",
       "\n",
       "    Attr9   Attr10  ...    Attr56    Attr57   Attr58    Attr59  Attr60  \\\n",
       "0  1.1961  0.46359  ...  0.163960  0.375740  0.83604  0.000007  9.7145   \n",
       "1  1.6018  0.53962  ...  0.027516  0.271000  0.90108  0.000000  5.9882   \n",
       "2  1.0077  0.67566  ...  0.007639  0.000881  0.99236  0.000000  6.7742   \n",
       "3  1.0509  0.56453  ...  0.048398  0.043445  0.95160  0.142980  4.2286   \n",
       "4  1.3393  0.58496  ...  0.176480  0.321880  0.82635  0.073039  2.5912   \n",
       "\n",
       "   Attr61   Attr62  Attr63  Attr64  class  \n",
       "0  6.2813   84.291  4.3303  4.0341   b'0'  \n",
       "1  4.1103  102.190  3.5716  5.9500   b'0'  \n",
       "2  3.7922   64.846  5.6287  4.4581   b'0'  \n",
       "3  5.0528   98.783  3.6950  3.4844   b'0'  \n",
       "4  7.0756  100.540  3.6303  4.6375   b'0'  \n",
       "\n",
       "[5 rows x 65 columns]"
      ]
     },
     "execution_count": 4,
     "metadata": {},
     "output_type": "execute_result"
    }
   ],
   "source": [
    "df.head(5)"
   ]
  },
  {
   "cell_type": "code",
   "execution_count": 5,
   "id": "41da8bcd",
   "metadata": {},
   "outputs": [],
   "source": [
    "df=df.rename_axis(\"company_id\")"
   ]
  },
  {
   "cell_type": "code",
   "execution_count": 6,
   "id": "af68aab8",
   "metadata": {},
   "outputs": [
    {
     "data": {
      "text/html": [
       "<div>\n",
       "<style scoped>\n",
       "    .dataframe tbody tr th:only-of-type {\n",
       "        vertical-align: middle;\n",
       "    }\n",
       "\n",
       "    .dataframe tbody tr th {\n",
       "        vertical-align: top;\n",
       "    }\n",
       "\n",
       "    .dataframe thead th {\n",
       "        text-align: right;\n",
       "    }\n",
       "</style>\n",
       "<table border=\"1\" class=\"dataframe\">\n",
       "  <thead>\n",
       "    <tr style=\"text-align: right;\">\n",
       "      <th></th>\n",
       "      <th>Attr1</th>\n",
       "      <th>Attr2</th>\n",
       "      <th>Attr3</th>\n",
       "      <th>Attr4</th>\n",
       "      <th>Attr5</th>\n",
       "      <th>Attr6</th>\n",
       "      <th>Attr7</th>\n",
       "      <th>Attr8</th>\n",
       "      <th>Attr9</th>\n",
       "      <th>Attr10</th>\n",
       "      <th>...</th>\n",
       "      <th>Attr56</th>\n",
       "      <th>Attr57</th>\n",
       "      <th>Attr58</th>\n",
       "      <th>Attr59</th>\n",
       "      <th>Attr60</th>\n",
       "      <th>Attr61</th>\n",
       "      <th>Attr62</th>\n",
       "      <th>Attr63</th>\n",
       "      <th>Attr64</th>\n",
       "      <th>class</th>\n",
       "    </tr>\n",
       "    <tr>\n",
       "      <th>company_id</th>\n",
       "      <th></th>\n",
       "      <th></th>\n",
       "      <th></th>\n",
       "      <th></th>\n",
       "      <th></th>\n",
       "      <th></th>\n",
       "      <th></th>\n",
       "      <th></th>\n",
       "      <th></th>\n",
       "      <th></th>\n",
       "      <th></th>\n",
       "      <th></th>\n",
       "      <th></th>\n",
       "      <th></th>\n",
       "      <th></th>\n",
       "      <th></th>\n",
       "      <th></th>\n",
       "      <th></th>\n",
       "      <th></th>\n",
       "      <th></th>\n",
       "      <th></th>\n",
       "    </tr>\n",
       "  </thead>\n",
       "  <tbody>\n",
       "    <tr>\n",
       "      <th>0</th>\n",
       "      <td>0.174190</td>\n",
       "      <td>0.41299</td>\n",
       "      <td>0.14371</td>\n",
       "      <td>1.3480</td>\n",
       "      <td>-28.9820</td>\n",
       "      <td>0.60383</td>\n",
       "      <td>0.219460</td>\n",
       "      <td>1.1225</td>\n",
       "      <td>1.1961</td>\n",
       "      <td>0.46359</td>\n",
       "      <td>...</td>\n",
       "      <td>0.163960</td>\n",
       "      <td>0.375740</td>\n",
       "      <td>0.83604</td>\n",
       "      <td>0.000007</td>\n",
       "      <td>9.7145</td>\n",
       "      <td>6.2813</td>\n",
       "      <td>84.291</td>\n",
       "      <td>4.3303</td>\n",
       "      <td>4.0341</td>\n",
       "      <td>b'0'</td>\n",
       "    </tr>\n",
       "    <tr>\n",
       "      <th>1</th>\n",
       "      <td>0.146240</td>\n",
       "      <td>0.46038</td>\n",
       "      <td>0.28230</td>\n",
       "      <td>1.6294</td>\n",
       "      <td>2.5952</td>\n",
       "      <td>0.00000</td>\n",
       "      <td>0.171850</td>\n",
       "      <td>1.1721</td>\n",
       "      <td>1.6018</td>\n",
       "      <td>0.53962</td>\n",
       "      <td>...</td>\n",
       "      <td>0.027516</td>\n",
       "      <td>0.271000</td>\n",
       "      <td>0.90108</td>\n",
       "      <td>0.000000</td>\n",
       "      <td>5.9882</td>\n",
       "      <td>4.1103</td>\n",
       "      <td>102.190</td>\n",
       "      <td>3.5716</td>\n",
       "      <td>5.9500</td>\n",
       "      <td>b'0'</td>\n",
       "    </tr>\n",
       "    <tr>\n",
       "      <th>2</th>\n",
       "      <td>0.000595</td>\n",
       "      <td>0.22612</td>\n",
       "      <td>0.48839</td>\n",
       "      <td>3.1599</td>\n",
       "      <td>84.8740</td>\n",
       "      <td>0.19114</td>\n",
       "      <td>0.004572</td>\n",
       "      <td>2.9881</td>\n",
       "      <td>1.0077</td>\n",
       "      <td>0.67566</td>\n",
       "      <td>...</td>\n",
       "      <td>0.007639</td>\n",
       "      <td>0.000881</td>\n",
       "      <td>0.99236</td>\n",
       "      <td>0.000000</td>\n",
       "      <td>6.7742</td>\n",
       "      <td>3.7922</td>\n",
       "      <td>64.846</td>\n",
       "      <td>5.6287</td>\n",
       "      <td>4.4581</td>\n",
       "      <td>b'0'</td>\n",
       "    </tr>\n",
       "    <tr>\n",
       "      <th>3</th>\n",
       "      <td>0.024526</td>\n",
       "      <td>0.43236</td>\n",
       "      <td>0.27546</td>\n",
       "      <td>1.7833</td>\n",
       "      <td>-10.1050</td>\n",
       "      <td>0.56944</td>\n",
       "      <td>0.024526</td>\n",
       "      <td>1.3057</td>\n",
       "      <td>1.0509</td>\n",
       "      <td>0.56453</td>\n",
       "      <td>...</td>\n",
       "      <td>0.048398</td>\n",
       "      <td>0.043445</td>\n",
       "      <td>0.95160</td>\n",
       "      <td>0.142980</td>\n",
       "      <td>4.2286</td>\n",
       "      <td>5.0528</td>\n",
       "      <td>98.783</td>\n",
       "      <td>3.6950</td>\n",
       "      <td>3.4844</td>\n",
       "      <td>b'0'</td>\n",
       "    </tr>\n",
       "    <tr>\n",
       "      <th>4</th>\n",
       "      <td>0.188290</td>\n",
       "      <td>0.41504</td>\n",
       "      <td>0.34231</td>\n",
       "      <td>1.9279</td>\n",
       "      <td>-58.2740</td>\n",
       "      <td>0.00000</td>\n",
       "      <td>0.233580</td>\n",
       "      <td>1.4094</td>\n",
       "      <td>1.3393</td>\n",
       "      <td>0.58496</td>\n",
       "      <td>...</td>\n",
       "      <td>0.176480</td>\n",
       "      <td>0.321880</td>\n",
       "      <td>0.82635</td>\n",
       "      <td>0.073039</td>\n",
       "      <td>2.5912</td>\n",
       "      <td>7.0756</td>\n",
       "      <td>100.540</td>\n",
       "      <td>3.6303</td>\n",
       "      <td>4.6375</td>\n",
       "      <td>b'0'</td>\n",
       "    </tr>\n",
       "  </tbody>\n",
       "</table>\n",
       "<p>5 rows × 65 columns</p>\n",
       "</div>"
      ],
      "text/plain": [
       "               Attr1    Attr2    Attr3   Attr4    Attr5    Attr6     Attr7  \\\n",
       "company_id                                                                   \n",
       "0           0.174190  0.41299  0.14371  1.3480 -28.9820  0.60383  0.219460   \n",
       "1           0.146240  0.46038  0.28230  1.6294   2.5952  0.00000  0.171850   \n",
       "2           0.000595  0.22612  0.48839  3.1599  84.8740  0.19114  0.004572   \n",
       "3           0.024526  0.43236  0.27546  1.7833 -10.1050  0.56944  0.024526   \n",
       "4           0.188290  0.41504  0.34231  1.9279 -58.2740  0.00000  0.233580   \n",
       "\n",
       "             Attr8   Attr9   Attr10  ...    Attr56    Attr57   Attr58  \\\n",
       "company_id                           ...                                \n",
       "0           1.1225  1.1961  0.46359  ...  0.163960  0.375740  0.83604   \n",
       "1           1.1721  1.6018  0.53962  ...  0.027516  0.271000  0.90108   \n",
       "2           2.9881  1.0077  0.67566  ...  0.007639  0.000881  0.99236   \n",
       "3           1.3057  1.0509  0.56453  ...  0.048398  0.043445  0.95160   \n",
       "4           1.4094  1.3393  0.58496  ...  0.176480  0.321880  0.82635   \n",
       "\n",
       "              Attr59  Attr60  Attr61   Attr62  Attr63  Attr64  class  \n",
       "company_id                                                            \n",
       "0           0.000007  9.7145  6.2813   84.291  4.3303  4.0341   b'0'  \n",
       "1           0.000000  5.9882  4.1103  102.190  3.5716  5.9500   b'0'  \n",
       "2           0.000000  6.7742  3.7922   64.846  5.6287  4.4581   b'0'  \n",
       "3           0.142980  4.2286  5.0528   98.783  3.6950  3.4844   b'0'  \n",
       "4           0.073039  2.5912  7.0756  100.540  3.6303  4.6375   b'0'  \n",
       "\n",
       "[5 rows x 65 columns]"
      ]
     },
     "execution_count": 6,
     "metadata": {},
     "output_type": "execute_result"
    }
   ],
   "source": [
    "df.head(5)"
   ]
  },
  {
   "cell_type": "code",
   "execution_count": 7,
   "id": "b19b005b",
   "metadata": {},
   "outputs": [],
   "source": [
    "df=df.shift()[1:]"
   ]
  },
  {
   "cell_type": "code",
   "execution_count": 8,
   "id": "d8b10718",
   "metadata": {},
   "outputs": [
    {
     "data": {
      "text/html": [
       "<div>\n",
       "<style scoped>\n",
       "    .dataframe tbody tr th:only-of-type {\n",
       "        vertical-align: middle;\n",
       "    }\n",
       "\n",
       "    .dataframe tbody tr th {\n",
       "        vertical-align: top;\n",
       "    }\n",
       "\n",
       "    .dataframe thead th {\n",
       "        text-align: right;\n",
       "    }\n",
       "</style>\n",
       "<table border=\"1\" class=\"dataframe\">\n",
       "  <thead>\n",
       "    <tr style=\"text-align: right;\">\n",
       "      <th></th>\n",
       "      <th>Attr1</th>\n",
       "      <th>Attr2</th>\n",
       "      <th>Attr3</th>\n",
       "      <th>Attr4</th>\n",
       "      <th>Attr5</th>\n",
       "      <th>Attr6</th>\n",
       "      <th>Attr7</th>\n",
       "      <th>Attr8</th>\n",
       "      <th>Attr9</th>\n",
       "      <th>Attr10</th>\n",
       "      <th>...</th>\n",
       "      <th>Attr56</th>\n",
       "      <th>Attr57</th>\n",
       "      <th>Attr58</th>\n",
       "      <th>Attr59</th>\n",
       "      <th>Attr60</th>\n",
       "      <th>Attr61</th>\n",
       "      <th>Attr62</th>\n",
       "      <th>Attr63</th>\n",
       "      <th>Attr64</th>\n",
       "      <th>class</th>\n",
       "    </tr>\n",
       "    <tr>\n",
       "      <th>company_id</th>\n",
       "      <th></th>\n",
       "      <th></th>\n",
       "      <th></th>\n",
       "      <th></th>\n",
       "      <th></th>\n",
       "      <th></th>\n",
       "      <th></th>\n",
       "      <th></th>\n",
       "      <th></th>\n",
       "      <th></th>\n",
       "      <th></th>\n",
       "      <th></th>\n",
       "      <th></th>\n",
       "      <th></th>\n",
       "      <th></th>\n",
       "      <th></th>\n",
       "      <th></th>\n",
       "      <th></th>\n",
       "      <th></th>\n",
       "      <th></th>\n",
       "      <th></th>\n",
       "    </tr>\n",
       "  </thead>\n",
       "  <tbody>\n",
       "    <tr>\n",
       "      <th>1</th>\n",
       "      <td>0.174190</td>\n",
       "      <td>0.41299</td>\n",
       "      <td>0.14371</td>\n",
       "      <td>1.3480</td>\n",
       "      <td>-28.9820</td>\n",
       "      <td>0.60383</td>\n",
       "      <td>0.219460</td>\n",
       "      <td>1.1225</td>\n",
       "      <td>1.1961</td>\n",
       "      <td>0.46359</td>\n",
       "      <td>...</td>\n",
       "      <td>0.163960</td>\n",
       "      <td>0.375740</td>\n",
       "      <td>0.83604</td>\n",
       "      <td>0.000007</td>\n",
       "      <td>9.7145</td>\n",
       "      <td>6.2813</td>\n",
       "      <td>84.291</td>\n",
       "      <td>4.3303</td>\n",
       "      <td>4.0341</td>\n",
       "      <td>b'0'</td>\n",
       "    </tr>\n",
       "    <tr>\n",
       "      <th>2</th>\n",
       "      <td>0.146240</td>\n",
       "      <td>0.46038</td>\n",
       "      <td>0.28230</td>\n",
       "      <td>1.6294</td>\n",
       "      <td>2.5952</td>\n",
       "      <td>0.00000</td>\n",
       "      <td>0.171850</td>\n",
       "      <td>1.1721</td>\n",
       "      <td>1.6018</td>\n",
       "      <td>0.53962</td>\n",
       "      <td>...</td>\n",
       "      <td>0.027516</td>\n",
       "      <td>0.271000</td>\n",
       "      <td>0.90108</td>\n",
       "      <td>0.000000</td>\n",
       "      <td>5.9882</td>\n",
       "      <td>4.1103</td>\n",
       "      <td>102.190</td>\n",
       "      <td>3.5716</td>\n",
       "      <td>5.9500</td>\n",
       "      <td>b'0'</td>\n",
       "    </tr>\n",
       "    <tr>\n",
       "      <th>3</th>\n",
       "      <td>0.000595</td>\n",
       "      <td>0.22612</td>\n",
       "      <td>0.48839</td>\n",
       "      <td>3.1599</td>\n",
       "      <td>84.8740</td>\n",
       "      <td>0.19114</td>\n",
       "      <td>0.004572</td>\n",
       "      <td>2.9881</td>\n",
       "      <td>1.0077</td>\n",
       "      <td>0.67566</td>\n",
       "      <td>...</td>\n",
       "      <td>0.007639</td>\n",
       "      <td>0.000881</td>\n",
       "      <td>0.99236</td>\n",
       "      <td>0.000000</td>\n",
       "      <td>6.7742</td>\n",
       "      <td>3.7922</td>\n",
       "      <td>64.846</td>\n",
       "      <td>5.6287</td>\n",
       "      <td>4.4581</td>\n",
       "      <td>b'0'</td>\n",
       "    </tr>\n",
       "    <tr>\n",
       "      <th>4</th>\n",
       "      <td>0.024526</td>\n",
       "      <td>0.43236</td>\n",
       "      <td>0.27546</td>\n",
       "      <td>1.7833</td>\n",
       "      <td>-10.1050</td>\n",
       "      <td>0.56944</td>\n",
       "      <td>0.024526</td>\n",
       "      <td>1.3057</td>\n",
       "      <td>1.0509</td>\n",
       "      <td>0.56453</td>\n",
       "      <td>...</td>\n",
       "      <td>0.048398</td>\n",
       "      <td>0.043445</td>\n",
       "      <td>0.95160</td>\n",
       "      <td>0.142980</td>\n",
       "      <td>4.2286</td>\n",
       "      <td>5.0528</td>\n",
       "      <td>98.783</td>\n",
       "      <td>3.6950</td>\n",
       "      <td>3.4844</td>\n",
       "      <td>b'0'</td>\n",
       "    </tr>\n",
       "    <tr>\n",
       "      <th>5</th>\n",
       "      <td>0.188290</td>\n",
       "      <td>0.41504</td>\n",
       "      <td>0.34231</td>\n",
       "      <td>1.9279</td>\n",
       "      <td>-58.2740</td>\n",
       "      <td>0.00000</td>\n",
       "      <td>0.233580</td>\n",
       "      <td>1.4094</td>\n",
       "      <td>1.3393</td>\n",
       "      <td>0.58496</td>\n",
       "      <td>...</td>\n",
       "      <td>0.176480</td>\n",
       "      <td>0.321880</td>\n",
       "      <td>0.82635</td>\n",
       "      <td>0.073039</td>\n",
       "      <td>2.5912</td>\n",
       "      <td>7.0756</td>\n",
       "      <td>100.540</td>\n",
       "      <td>3.6303</td>\n",
       "      <td>4.6375</td>\n",
       "      <td>b'0'</td>\n",
       "    </tr>\n",
       "  </tbody>\n",
       "</table>\n",
       "<p>5 rows × 65 columns</p>\n",
       "</div>"
      ],
      "text/plain": [
       "               Attr1    Attr2    Attr3   Attr4    Attr5    Attr6     Attr7  \\\n",
       "company_id                                                                   \n",
       "1           0.174190  0.41299  0.14371  1.3480 -28.9820  0.60383  0.219460   \n",
       "2           0.146240  0.46038  0.28230  1.6294   2.5952  0.00000  0.171850   \n",
       "3           0.000595  0.22612  0.48839  3.1599  84.8740  0.19114  0.004572   \n",
       "4           0.024526  0.43236  0.27546  1.7833 -10.1050  0.56944  0.024526   \n",
       "5           0.188290  0.41504  0.34231  1.9279 -58.2740  0.00000  0.233580   \n",
       "\n",
       "             Attr8   Attr9   Attr10  ...    Attr56    Attr57   Attr58  \\\n",
       "company_id                           ...                                \n",
       "1           1.1225  1.1961  0.46359  ...  0.163960  0.375740  0.83604   \n",
       "2           1.1721  1.6018  0.53962  ...  0.027516  0.271000  0.90108   \n",
       "3           2.9881  1.0077  0.67566  ...  0.007639  0.000881  0.99236   \n",
       "4           1.3057  1.0509  0.56453  ...  0.048398  0.043445  0.95160   \n",
       "5           1.4094  1.3393  0.58496  ...  0.176480  0.321880  0.82635   \n",
       "\n",
       "              Attr59  Attr60  Attr61   Attr62  Attr63  Attr64  class  \n",
       "company_id                                                            \n",
       "1           0.000007  9.7145  6.2813   84.291  4.3303  4.0341   b'0'  \n",
       "2           0.000000  5.9882  4.1103  102.190  3.5716  5.9500   b'0'  \n",
       "3           0.000000  6.7742  3.7922   64.846  5.6287  4.4581   b'0'  \n",
       "4           0.142980  4.2286  5.0528   98.783  3.6950  3.4844   b'0'  \n",
       "5           0.073039  2.5912  7.0756  100.540  3.6303  4.6375   b'0'  \n",
       "\n",
       "[5 rows x 65 columns]"
      ]
     },
     "execution_count": 8,
     "metadata": {},
     "output_type": "execute_result"
    }
   ],
   "source": [
    "df.head(5)"
   ]
  },
  {
   "cell_type": "code",
   "execution_count": 9,
   "id": "3014f4c9",
   "metadata": {},
   "outputs": [
    {
     "data": {
      "text/plain": [
       "array([b'0', b'1'], dtype=object)"
      ]
     },
     "execution_count": 9,
     "metadata": {},
     "output_type": "execute_result"
    }
   ],
   "source": [
    "df[\"class\"].unique()"
   ]
  },
  {
   "cell_type": "markdown",
   "id": "b22a5e5e",
   "metadata": {},
   "source": [
    "Rename class column to bankrupt to be more understable and replace value to be easy in proccecing and predicting"
   ]
  },
  {
   "cell_type": "code",
   "execution_count": 10,
   "id": "486123da",
   "metadata": {},
   "outputs": [],
   "source": [
    "df[\"bankrupt\"] = df[\"class\"].replace([b'0',b'1'],[0,1]).astype(bool)\n",
    "df.drop(columns=\"class\",inplace=True)"
   ]
  },
  {
   "cell_type": "code",
   "execution_count": 11,
   "id": "b383928e",
   "metadata": {},
   "outputs": [
    {
     "data": {
      "text/html": [
       "<div>\n",
       "<style scoped>\n",
       "    .dataframe tbody tr th:only-of-type {\n",
       "        vertical-align: middle;\n",
       "    }\n",
       "\n",
       "    .dataframe tbody tr th {\n",
       "        vertical-align: top;\n",
       "    }\n",
       "\n",
       "    .dataframe thead th {\n",
       "        text-align: right;\n",
       "    }\n",
       "</style>\n",
       "<table border=\"1\" class=\"dataframe\">\n",
       "  <thead>\n",
       "    <tr style=\"text-align: right;\">\n",
       "      <th></th>\n",
       "      <th>Attr1</th>\n",
       "      <th>Attr2</th>\n",
       "      <th>Attr3</th>\n",
       "      <th>Attr4</th>\n",
       "      <th>Attr5</th>\n",
       "      <th>Attr6</th>\n",
       "      <th>Attr7</th>\n",
       "      <th>Attr8</th>\n",
       "      <th>Attr9</th>\n",
       "      <th>Attr10</th>\n",
       "      <th>...</th>\n",
       "      <th>Attr56</th>\n",
       "      <th>Attr57</th>\n",
       "      <th>Attr58</th>\n",
       "      <th>Attr59</th>\n",
       "      <th>Attr60</th>\n",
       "      <th>Attr61</th>\n",
       "      <th>Attr62</th>\n",
       "      <th>Attr63</th>\n",
       "      <th>Attr64</th>\n",
       "      <th>bankrupt</th>\n",
       "    </tr>\n",
       "    <tr>\n",
       "      <th>company_id</th>\n",
       "      <th></th>\n",
       "      <th></th>\n",
       "      <th></th>\n",
       "      <th></th>\n",
       "      <th></th>\n",
       "      <th></th>\n",
       "      <th></th>\n",
       "      <th></th>\n",
       "      <th></th>\n",
       "      <th></th>\n",
       "      <th></th>\n",
       "      <th></th>\n",
       "      <th></th>\n",
       "      <th></th>\n",
       "      <th></th>\n",
       "      <th></th>\n",
       "      <th></th>\n",
       "      <th></th>\n",
       "      <th></th>\n",
       "      <th></th>\n",
       "      <th></th>\n",
       "    </tr>\n",
       "  </thead>\n",
       "  <tbody>\n",
       "    <tr>\n",
       "      <th>1</th>\n",
       "      <td>0.174190</td>\n",
       "      <td>0.41299</td>\n",
       "      <td>0.14371</td>\n",
       "      <td>1.3480</td>\n",
       "      <td>-28.9820</td>\n",
       "      <td>0.60383</td>\n",
       "      <td>0.219460</td>\n",
       "      <td>1.1225</td>\n",
       "      <td>1.1961</td>\n",
       "      <td>0.46359</td>\n",
       "      <td>...</td>\n",
       "      <td>0.163960</td>\n",
       "      <td>0.375740</td>\n",
       "      <td>0.83604</td>\n",
       "      <td>0.000007</td>\n",
       "      <td>9.7145</td>\n",
       "      <td>6.2813</td>\n",
       "      <td>84.291</td>\n",
       "      <td>4.3303</td>\n",
       "      <td>4.0341</td>\n",
       "      <td>False</td>\n",
       "    </tr>\n",
       "    <tr>\n",
       "      <th>2</th>\n",
       "      <td>0.146240</td>\n",
       "      <td>0.46038</td>\n",
       "      <td>0.28230</td>\n",
       "      <td>1.6294</td>\n",
       "      <td>2.5952</td>\n",
       "      <td>0.00000</td>\n",
       "      <td>0.171850</td>\n",
       "      <td>1.1721</td>\n",
       "      <td>1.6018</td>\n",
       "      <td>0.53962</td>\n",
       "      <td>...</td>\n",
       "      <td>0.027516</td>\n",
       "      <td>0.271000</td>\n",
       "      <td>0.90108</td>\n",
       "      <td>0.000000</td>\n",
       "      <td>5.9882</td>\n",
       "      <td>4.1103</td>\n",
       "      <td>102.190</td>\n",
       "      <td>3.5716</td>\n",
       "      <td>5.9500</td>\n",
       "      <td>False</td>\n",
       "    </tr>\n",
       "    <tr>\n",
       "      <th>3</th>\n",
       "      <td>0.000595</td>\n",
       "      <td>0.22612</td>\n",
       "      <td>0.48839</td>\n",
       "      <td>3.1599</td>\n",
       "      <td>84.8740</td>\n",
       "      <td>0.19114</td>\n",
       "      <td>0.004572</td>\n",
       "      <td>2.9881</td>\n",
       "      <td>1.0077</td>\n",
       "      <td>0.67566</td>\n",
       "      <td>...</td>\n",
       "      <td>0.007639</td>\n",
       "      <td>0.000881</td>\n",
       "      <td>0.99236</td>\n",
       "      <td>0.000000</td>\n",
       "      <td>6.7742</td>\n",
       "      <td>3.7922</td>\n",
       "      <td>64.846</td>\n",
       "      <td>5.6287</td>\n",
       "      <td>4.4581</td>\n",
       "      <td>False</td>\n",
       "    </tr>\n",
       "    <tr>\n",
       "      <th>4</th>\n",
       "      <td>0.024526</td>\n",
       "      <td>0.43236</td>\n",
       "      <td>0.27546</td>\n",
       "      <td>1.7833</td>\n",
       "      <td>-10.1050</td>\n",
       "      <td>0.56944</td>\n",
       "      <td>0.024526</td>\n",
       "      <td>1.3057</td>\n",
       "      <td>1.0509</td>\n",
       "      <td>0.56453</td>\n",
       "      <td>...</td>\n",
       "      <td>0.048398</td>\n",
       "      <td>0.043445</td>\n",
       "      <td>0.95160</td>\n",
       "      <td>0.142980</td>\n",
       "      <td>4.2286</td>\n",
       "      <td>5.0528</td>\n",
       "      <td>98.783</td>\n",
       "      <td>3.6950</td>\n",
       "      <td>3.4844</td>\n",
       "      <td>False</td>\n",
       "    </tr>\n",
       "    <tr>\n",
       "      <th>5</th>\n",
       "      <td>0.188290</td>\n",
       "      <td>0.41504</td>\n",
       "      <td>0.34231</td>\n",
       "      <td>1.9279</td>\n",
       "      <td>-58.2740</td>\n",
       "      <td>0.00000</td>\n",
       "      <td>0.233580</td>\n",
       "      <td>1.4094</td>\n",
       "      <td>1.3393</td>\n",
       "      <td>0.58496</td>\n",
       "      <td>...</td>\n",
       "      <td>0.176480</td>\n",
       "      <td>0.321880</td>\n",
       "      <td>0.82635</td>\n",
       "      <td>0.073039</td>\n",
       "      <td>2.5912</td>\n",
       "      <td>7.0756</td>\n",
       "      <td>100.540</td>\n",
       "      <td>3.6303</td>\n",
       "      <td>4.6375</td>\n",
       "      <td>False</td>\n",
       "    </tr>\n",
       "  </tbody>\n",
       "</table>\n",
       "<p>5 rows × 65 columns</p>\n",
       "</div>"
      ],
      "text/plain": [
       "               Attr1    Attr2    Attr3   Attr4    Attr5    Attr6     Attr7  \\\n",
       "company_id                                                                   \n",
       "1           0.174190  0.41299  0.14371  1.3480 -28.9820  0.60383  0.219460   \n",
       "2           0.146240  0.46038  0.28230  1.6294   2.5952  0.00000  0.171850   \n",
       "3           0.000595  0.22612  0.48839  3.1599  84.8740  0.19114  0.004572   \n",
       "4           0.024526  0.43236  0.27546  1.7833 -10.1050  0.56944  0.024526   \n",
       "5           0.188290  0.41504  0.34231  1.9279 -58.2740  0.00000  0.233580   \n",
       "\n",
       "             Attr8   Attr9   Attr10  ...    Attr56    Attr57   Attr58  \\\n",
       "company_id                           ...                                \n",
       "1           1.1225  1.1961  0.46359  ...  0.163960  0.375740  0.83604   \n",
       "2           1.1721  1.6018  0.53962  ...  0.027516  0.271000  0.90108   \n",
       "3           2.9881  1.0077  0.67566  ...  0.007639  0.000881  0.99236   \n",
       "4           1.3057  1.0509  0.56453  ...  0.048398  0.043445  0.95160   \n",
       "5           1.4094  1.3393  0.58496  ...  0.176480  0.321880  0.82635   \n",
       "\n",
       "              Attr59  Attr60  Attr61   Attr62  Attr63  Attr64  bankrupt  \n",
       "company_id                                                               \n",
       "1           0.000007  9.7145  6.2813   84.291  4.3303  4.0341     False  \n",
       "2           0.000000  5.9882  4.1103  102.190  3.5716  5.9500     False  \n",
       "3           0.000000  6.7742  3.7922   64.846  5.6287  4.4581     False  \n",
       "4           0.142980  4.2286  5.0528   98.783  3.6950  3.4844     False  \n",
       "5           0.073039  2.5912  7.0756  100.540  3.6303  4.6375     False  \n",
       "\n",
       "[5 rows x 65 columns]"
      ]
     },
     "execution_count": 11,
     "metadata": {},
     "output_type": "execute_result"
    }
   ],
   "source": [
    "df.head(5)"
   ]
  },
  {
   "cell_type": "code",
   "execution_count": 12,
   "id": "75c97815",
   "metadata": {
    "scrolled": true
   },
   "outputs": [
    {
     "name": "stdout",
     "output_type": "stream",
     "text": [
      "<class 'pandas.core.frame.DataFrame'>\n",
      "RangeIndex: 10502 entries, 1 to 10502\n",
      "Data columns (total 65 columns):\n",
      " #   Column    Non-Null Count  Dtype  \n",
      "---  ------    --------------  -----  \n",
      " 0   Attr1     10502 non-null  float64\n",
      " 1   Attr2     10502 non-null  float64\n",
      " 2   Attr3     10502 non-null  float64\n",
      " 3   Attr4     10484 non-null  float64\n",
      " 4   Attr5     10477 non-null  float64\n",
      " 5   Attr6     10502 non-null  float64\n",
      " 6   Attr7     10502 non-null  float64\n",
      " 7   Attr8     10488 non-null  float64\n",
      " 8   Attr9     10499 non-null  float64\n",
      " 9   Attr10    10502 non-null  float64\n",
      " 10  Attr11    10502 non-null  float64\n",
      " 11  Attr12    10484 non-null  float64\n",
      " 12  Attr13    10459 non-null  float64\n",
      " 13  Attr14    10502 non-null  float64\n",
      " 14  Attr15    10494 non-null  float64\n",
      " 15  Attr16    10488 non-null  float64\n",
      " 16  Attr17    10488 non-null  float64\n",
      " 17  Attr18    10502 non-null  float64\n",
      " 18  Attr19    10459 non-null  float64\n",
      " 19  Attr20    10459 non-null  float64\n",
      " 20  Attr21    9695 non-null   float64\n",
      " 21  Attr22    10502 non-null  float64\n",
      " 22  Attr23    10459 non-null  float64\n",
      " 23  Attr24    10275 non-null  float64\n",
      " 24  Attr25    10502 non-null  float64\n",
      " 25  Attr26    10488 non-null  float64\n",
      " 26  Attr27    9787 non-null   float64\n",
      " 27  Attr28    10274 non-null  float64\n",
      " 28  Attr29    10502 non-null  float64\n",
      " 29  Attr30    10459 non-null  float64\n",
      " 30  Attr31    10459 non-null  float64\n",
      " 31  Attr32    10401 non-null  float64\n",
      " 32  Attr33    10484 non-null  float64\n",
      " 33  Attr34    10488 non-null  float64\n",
      " 34  Attr35    10502 non-null  float64\n",
      " 35  Attr36    10502 non-null  float64\n",
      " 36  Attr37    5766 non-null   float64\n",
      " 37  Attr38    10502 non-null  float64\n",
      " 38  Attr39    10459 non-null  float64\n",
      " 39  Attr40    10484 non-null  float64\n",
      " 40  Attr41    10300 non-null  float64\n",
      " 41  Attr42    10459 non-null  float64\n",
      " 42  Attr43    10459 non-null  float64\n",
      " 43  Attr44    10459 non-null  float64\n",
      " 44  Attr45    9911 non-null   float64\n",
      " 45  Attr46    10484 non-null  float64\n",
      " 46  Attr47    10416 non-null  float64\n",
      " 47  Attr48    10502 non-null  float64\n",
      " 48  Attr49    10459 non-null  float64\n",
      " 49  Attr50    10488 non-null  float64\n",
      " 50  Attr51    10502 non-null  float64\n",
      " 51  Attr52    10416 non-null  float64\n",
      " 52  Attr53    10274 non-null  float64\n",
      " 53  Attr54    10274 non-null  float64\n",
      " 54  Attr55    10502 non-null  float64\n",
      " 55  Attr56    10459 non-null  float64\n",
      " 56  Attr57    10502 non-null  float64\n",
      " 57  Attr58    10473 non-null  float64\n",
      " 58  Attr59    10502 non-null  float64\n",
      " 59  Attr60    9910 non-null   float64\n",
      " 60  Attr61    10485 non-null  float64\n",
      " 61  Attr62    10459 non-null  float64\n",
      " 62  Attr63    10484 non-null  float64\n",
      " 63  Attr64    10274 non-null  float64\n",
      " 64  bankrupt  10502 non-null  bool   \n",
      "dtypes: bool(1), float64(64)\n",
      "memory usage: 5.1 MB\n"
     ]
    }
   ],
   "source": [
    "df.info()"
   ]
  },
  {
   "cell_type": "markdown",
   "id": "3e9211ec",
   "metadata": {},
   "source": [
    "Rename columns to be same with Data dictionary file"
   ]
  },
  {
   "cell_type": "code",
   "execution_count": 13,
   "id": "795e7ed6",
   "metadata": {},
   "outputs": [],
   "source": [
    "dict={}\n",
    "c=1\n",
    "for i in df.columns:\n",
    "    if i==\"bankrupt\":\n",
    "        dict[i]=\"bankrupt\"\n",
    "    else:\n",
    "        dict[i]=f\"feat_{c}\"\n",
    "    c+=1\n",
    "        "
   ]
  },
  {
   "cell_type": "code",
   "execution_count": 14,
   "id": "e321aa6a",
   "metadata": {},
   "outputs": [
    {
     "data": {
      "text/plain": [
       "{'Attr1': 'feat_1',\n",
       " 'Attr2': 'feat_2',\n",
       " 'Attr3': 'feat_3',\n",
       " 'Attr4': 'feat_4',\n",
       " 'Attr5': 'feat_5',\n",
       " 'Attr6': 'feat_6',\n",
       " 'Attr7': 'feat_7',\n",
       " 'Attr8': 'feat_8',\n",
       " 'Attr9': 'feat_9',\n",
       " 'Attr10': 'feat_10',\n",
       " 'Attr11': 'feat_11',\n",
       " 'Attr12': 'feat_12',\n",
       " 'Attr13': 'feat_13',\n",
       " 'Attr14': 'feat_14',\n",
       " 'Attr15': 'feat_15',\n",
       " 'Attr16': 'feat_16',\n",
       " 'Attr17': 'feat_17',\n",
       " 'Attr18': 'feat_18',\n",
       " 'Attr19': 'feat_19',\n",
       " 'Attr20': 'feat_20',\n",
       " 'Attr21': 'feat_21',\n",
       " 'Attr22': 'feat_22',\n",
       " 'Attr23': 'feat_23',\n",
       " 'Attr24': 'feat_24',\n",
       " 'Attr25': 'feat_25',\n",
       " 'Attr26': 'feat_26',\n",
       " 'Attr27': 'feat_27',\n",
       " 'Attr28': 'feat_28',\n",
       " 'Attr29': 'feat_29',\n",
       " 'Attr30': 'feat_30',\n",
       " 'Attr31': 'feat_31',\n",
       " 'Attr32': 'feat_32',\n",
       " 'Attr33': 'feat_33',\n",
       " 'Attr34': 'feat_34',\n",
       " 'Attr35': 'feat_35',\n",
       " 'Attr36': 'feat_36',\n",
       " 'Attr37': 'feat_37',\n",
       " 'Attr38': 'feat_38',\n",
       " 'Attr39': 'feat_39',\n",
       " 'Attr40': 'feat_40',\n",
       " 'Attr41': 'feat_41',\n",
       " 'Attr42': 'feat_42',\n",
       " 'Attr43': 'feat_43',\n",
       " 'Attr44': 'feat_44',\n",
       " 'Attr45': 'feat_45',\n",
       " 'Attr46': 'feat_46',\n",
       " 'Attr47': 'feat_47',\n",
       " 'Attr48': 'feat_48',\n",
       " 'Attr49': 'feat_49',\n",
       " 'Attr50': 'feat_50',\n",
       " 'Attr51': 'feat_51',\n",
       " 'Attr52': 'feat_52',\n",
       " 'Attr53': 'feat_53',\n",
       " 'Attr54': 'feat_54',\n",
       " 'Attr55': 'feat_55',\n",
       " 'Attr56': 'feat_56',\n",
       " 'Attr57': 'feat_57',\n",
       " 'Attr58': 'feat_58',\n",
       " 'Attr59': 'feat_59',\n",
       " 'Attr60': 'feat_60',\n",
       " 'Attr61': 'feat_61',\n",
       " 'Attr62': 'feat_62',\n",
       " 'Attr63': 'feat_63',\n",
       " 'Attr64': 'feat_64',\n",
       " 'bankrupt': 'bankrupt'}"
      ]
     },
     "execution_count": 14,
     "metadata": {},
     "output_type": "execute_result"
    }
   ],
   "source": [
    "dict"
   ]
  },
  {
   "cell_type": "code",
   "execution_count": 15,
   "id": "39caf975",
   "metadata": {},
   "outputs": [],
   "source": [
    "df.rename(columns=dict, inplace=True)"
   ]
  },
  {
   "cell_type": "markdown",
   "id": "ad58bcc0",
   "metadata": {},
   "source": [
    "create wrangle function to repeat same prepration to anothe same data or do another Model statergy"
   ]
  },
  {
   "cell_type": "code",
   "execution_count": 16,
   "id": "0f8353fb",
   "metadata": {},
   "outputs": [],
   "source": [
    "def Wrangle(filepath):\n",
    "    #load ARff File\n",
    "    data=arff.loadarff(filepath)\n",
    "    #create dataframe\n",
    "    df=pd.DataFrame(data[0])\n",
    "    #rename index\n",
    "    df=df.rename_axis(\"company_id\")\n",
    "    #shift our data to make index start with '1'\n",
    "    df=df.shift()[1:]\n",
    "    #Rename class column to bankrupt to be more understable and replace value to be easy in proccecing and predicting\n",
    "    df[\"bankrupt\"] = df[\"class\"].replace([b'0',b'1'],[0,1]).astype(bool)\n",
    "    df.drop(columns=\"class\",inplace=True)\n",
    "    \n",
    "    #Rename columns\n",
    "    dict={}\n",
    "    c=1\n",
    "    for i in df.columns:\n",
    "        if i==\"bankrupt\":\n",
    "            dict[i]=\"bankrupt\"\n",
    "        else:\n",
    "            dict[i]=f\"feat_{c}\"\n",
    "        c+=1\n",
    "            \n",
    "    \n",
    "    df.rename(columns=dict, inplace=True)  \n",
    "    return df\n",
    "    "
   ]
  },
  {
   "cell_type": "code",
   "execution_count": 17,
   "id": "710fc0e3",
   "metadata": {},
   "outputs": [],
   "source": [
    "df=Wrangle(\"./Downloads/3year.arff\")"
   ]
  },
  {
   "cell_type": "code",
   "execution_count": 18,
   "id": "db046e5c",
   "metadata": {
    "scrolled": false
   },
   "outputs": [
    {
     "data": {
      "text/html": [
       "<div>\n",
       "<style scoped>\n",
       "    .dataframe tbody tr th:only-of-type {\n",
       "        vertical-align: middle;\n",
       "    }\n",
       "\n",
       "    .dataframe tbody tr th {\n",
       "        vertical-align: top;\n",
       "    }\n",
       "\n",
       "    .dataframe thead th {\n",
       "        text-align: right;\n",
       "    }\n",
       "</style>\n",
       "<table border=\"1\" class=\"dataframe\">\n",
       "  <thead>\n",
       "    <tr style=\"text-align: right;\">\n",
       "      <th></th>\n",
       "      <th>feat_1</th>\n",
       "      <th>feat_2</th>\n",
       "      <th>feat_3</th>\n",
       "      <th>feat_4</th>\n",
       "      <th>feat_5</th>\n",
       "      <th>feat_6</th>\n",
       "      <th>feat_7</th>\n",
       "      <th>feat_8</th>\n",
       "      <th>feat_9</th>\n",
       "      <th>feat_10</th>\n",
       "      <th>...</th>\n",
       "      <th>feat_56</th>\n",
       "      <th>feat_57</th>\n",
       "      <th>feat_58</th>\n",
       "      <th>feat_59</th>\n",
       "      <th>feat_60</th>\n",
       "      <th>feat_61</th>\n",
       "      <th>feat_62</th>\n",
       "      <th>feat_63</th>\n",
       "      <th>feat_64</th>\n",
       "      <th>bankrupt</th>\n",
       "    </tr>\n",
       "    <tr>\n",
       "      <th>company_id</th>\n",
       "      <th></th>\n",
       "      <th></th>\n",
       "      <th></th>\n",
       "      <th></th>\n",
       "      <th></th>\n",
       "      <th></th>\n",
       "      <th></th>\n",
       "      <th></th>\n",
       "      <th></th>\n",
       "      <th></th>\n",
       "      <th></th>\n",
       "      <th></th>\n",
       "      <th></th>\n",
       "      <th></th>\n",
       "      <th></th>\n",
       "      <th></th>\n",
       "      <th></th>\n",
       "      <th></th>\n",
       "      <th></th>\n",
       "      <th></th>\n",
       "      <th></th>\n",
       "    </tr>\n",
       "  </thead>\n",
       "  <tbody>\n",
       "    <tr>\n",
       "      <th>1</th>\n",
       "      <td>0.174190</td>\n",
       "      <td>0.41299</td>\n",
       "      <td>0.14371</td>\n",
       "      <td>1.3480</td>\n",
       "      <td>-28.9820</td>\n",
       "      <td>0.60383</td>\n",
       "      <td>0.219460</td>\n",
       "      <td>1.1225</td>\n",
       "      <td>1.1961</td>\n",
       "      <td>0.46359</td>\n",
       "      <td>...</td>\n",
       "      <td>0.163960</td>\n",
       "      <td>0.375740</td>\n",
       "      <td>0.83604</td>\n",
       "      <td>0.000007</td>\n",
       "      <td>9.7145</td>\n",
       "      <td>6.2813</td>\n",
       "      <td>84.291</td>\n",
       "      <td>4.3303</td>\n",
       "      <td>4.0341</td>\n",
       "      <td>False</td>\n",
       "    </tr>\n",
       "    <tr>\n",
       "      <th>2</th>\n",
       "      <td>0.146240</td>\n",
       "      <td>0.46038</td>\n",
       "      <td>0.28230</td>\n",
       "      <td>1.6294</td>\n",
       "      <td>2.5952</td>\n",
       "      <td>0.00000</td>\n",
       "      <td>0.171850</td>\n",
       "      <td>1.1721</td>\n",
       "      <td>1.6018</td>\n",
       "      <td>0.53962</td>\n",
       "      <td>...</td>\n",
       "      <td>0.027516</td>\n",
       "      <td>0.271000</td>\n",
       "      <td>0.90108</td>\n",
       "      <td>0.000000</td>\n",
       "      <td>5.9882</td>\n",
       "      <td>4.1103</td>\n",
       "      <td>102.190</td>\n",
       "      <td>3.5716</td>\n",
       "      <td>5.9500</td>\n",
       "      <td>False</td>\n",
       "    </tr>\n",
       "    <tr>\n",
       "      <th>3</th>\n",
       "      <td>0.000595</td>\n",
       "      <td>0.22612</td>\n",
       "      <td>0.48839</td>\n",
       "      <td>3.1599</td>\n",
       "      <td>84.8740</td>\n",
       "      <td>0.19114</td>\n",
       "      <td>0.004572</td>\n",
       "      <td>2.9881</td>\n",
       "      <td>1.0077</td>\n",
       "      <td>0.67566</td>\n",
       "      <td>...</td>\n",
       "      <td>0.007639</td>\n",
       "      <td>0.000881</td>\n",
       "      <td>0.99236</td>\n",
       "      <td>0.000000</td>\n",
       "      <td>6.7742</td>\n",
       "      <td>3.7922</td>\n",
       "      <td>64.846</td>\n",
       "      <td>5.6287</td>\n",
       "      <td>4.4581</td>\n",
       "      <td>False</td>\n",
       "    </tr>\n",
       "    <tr>\n",
       "      <th>4</th>\n",
       "      <td>0.024526</td>\n",
       "      <td>0.43236</td>\n",
       "      <td>0.27546</td>\n",
       "      <td>1.7833</td>\n",
       "      <td>-10.1050</td>\n",
       "      <td>0.56944</td>\n",
       "      <td>0.024526</td>\n",
       "      <td>1.3057</td>\n",
       "      <td>1.0509</td>\n",
       "      <td>0.56453</td>\n",
       "      <td>...</td>\n",
       "      <td>0.048398</td>\n",
       "      <td>0.043445</td>\n",
       "      <td>0.95160</td>\n",
       "      <td>0.142980</td>\n",
       "      <td>4.2286</td>\n",
       "      <td>5.0528</td>\n",
       "      <td>98.783</td>\n",
       "      <td>3.6950</td>\n",
       "      <td>3.4844</td>\n",
       "      <td>False</td>\n",
       "    </tr>\n",
       "    <tr>\n",
       "      <th>5</th>\n",
       "      <td>0.188290</td>\n",
       "      <td>0.41504</td>\n",
       "      <td>0.34231</td>\n",
       "      <td>1.9279</td>\n",
       "      <td>-58.2740</td>\n",
       "      <td>0.00000</td>\n",
       "      <td>0.233580</td>\n",
       "      <td>1.4094</td>\n",
       "      <td>1.3393</td>\n",
       "      <td>0.58496</td>\n",
       "      <td>...</td>\n",
       "      <td>0.176480</td>\n",
       "      <td>0.321880</td>\n",
       "      <td>0.82635</td>\n",
       "      <td>0.073039</td>\n",
       "      <td>2.5912</td>\n",
       "      <td>7.0756</td>\n",
       "      <td>100.540</td>\n",
       "      <td>3.6303</td>\n",
       "      <td>4.6375</td>\n",
       "      <td>False</td>\n",
       "    </tr>\n",
       "  </tbody>\n",
       "</table>\n",
       "<p>5 rows × 65 columns</p>\n",
       "</div>"
      ],
      "text/plain": [
       "              feat_1   feat_2   feat_3  feat_4   feat_5   feat_6    feat_7  \\\n",
       "company_id                                                                   \n",
       "1           0.174190  0.41299  0.14371  1.3480 -28.9820  0.60383  0.219460   \n",
       "2           0.146240  0.46038  0.28230  1.6294   2.5952  0.00000  0.171850   \n",
       "3           0.000595  0.22612  0.48839  3.1599  84.8740  0.19114  0.004572   \n",
       "4           0.024526  0.43236  0.27546  1.7833 -10.1050  0.56944  0.024526   \n",
       "5           0.188290  0.41504  0.34231  1.9279 -58.2740  0.00000  0.233580   \n",
       "\n",
       "            feat_8  feat_9  feat_10  ...   feat_56   feat_57  feat_58  \\\n",
       "company_id                           ...                                \n",
       "1           1.1225  1.1961  0.46359  ...  0.163960  0.375740  0.83604   \n",
       "2           1.1721  1.6018  0.53962  ...  0.027516  0.271000  0.90108   \n",
       "3           2.9881  1.0077  0.67566  ...  0.007639  0.000881  0.99236   \n",
       "4           1.3057  1.0509  0.56453  ...  0.048398  0.043445  0.95160   \n",
       "5           1.4094  1.3393  0.58496  ...  0.176480  0.321880  0.82635   \n",
       "\n",
       "             feat_59  feat_60  feat_61  feat_62  feat_63  feat_64  bankrupt  \n",
       "company_id                                                                   \n",
       "1           0.000007   9.7145   6.2813   84.291   4.3303   4.0341     False  \n",
       "2           0.000000   5.9882   4.1103  102.190   3.5716   5.9500     False  \n",
       "3           0.000000   6.7742   3.7922   64.846   5.6287   4.4581     False  \n",
       "4           0.142980   4.2286   5.0528   98.783   3.6950   3.4844     False  \n",
       "5           0.073039   2.5912   7.0756  100.540   3.6303   4.6375     False  \n",
       "\n",
       "[5 rows x 65 columns]"
      ]
     },
     "execution_count": 18,
     "metadata": {},
     "output_type": "execute_result"
    }
   ],
   "source": [
    "df.head(5)"
   ]
  },
  {
   "cell_type": "markdown",
   "id": "6c5e80f1",
   "metadata": {},
   "source": [
    "That's solid information. so all our features are numerical and  haveing missing data. it's a good idea to do some visualizations to see if there are any interesting trends or ideas"
   ]
  },
  {
   "cell_type": "code",
   "execution_count": 19,
   "id": "f24515ff",
   "metadata": {},
   "outputs": [
    {
     "data": {
      "image/png": "[encoded data removed]",
      "text/plain": [
       "<Figure size 640x480 with 1 Axes>"
      ]
     },
     "metadata": {},
     "output_type": "display_data"
    }
   ],
   "source": [
    "df[\"bankrupt\"].value_counts(normalize=True).plot(\n",
    "    kind=\"bar\",\n",
    "    xlabel=\"bankrupt\",\n",
    "    ylabel=\"frequency\",\n",
    "    title=\"Class Balance\"\n",
    ");"
   ]
  },
  {
   "cell_type": "markdown",
   "id": "20eb2933",
   "metadata": {},
   "source": [
    " That's good news for Poland's economy most of the companies in  dataset are doing all right for themselves,and  have an imbalanced dataset, where majority class is far bigger than  minority class."
   ]
  },
  {
   "cell_type": "markdown",
   "id": "5f877c1d",
   "metadata": {},
   "source": [
    "make a boxplot to see how the values in \"feat_27\"=profit on operating activities / financial expenses  are distributed."
   ]
  },
  {
   "cell_type": "code",
   "execution_count": 20,
   "id": "3a09f0ed",
   "metadata": {},
   "outputs": [
    {
     "data": {
      "image/png": "[encoded data removed]",
      "text/plain": [
       "<Figure size 640x480 with 1 Axes>"
      ]
     },
     "metadata": {},
     "output_type": "display_data"
    }
   ],
   "source": [
    "# Create boxplot\n",
    "sns.boxplot(x=\"bankrupt\",y=\"feat_27\",data=df)\n",
    "plt.xlabel(\"Bankrupt\")\n",
    "plt.ylabel(\"POA / financial expenses\")\n",
    "plt.title(\"Distribution of Profit/Expenses Ratio, by Class\");"
   ]
  },
  {
   "cell_type": "code",
   "execution_count": 21,
   "id": "3909114f",
   "metadata": {},
   "outputs": [
    {
     "data": {
      "text/plain": [
       "count        9,787\n",
       "mean         1,186\n",
       "std         34,693\n",
       "min       -190,130\n",
       "25%              0\n",
       "50%              1\n",
       "75%              5\n",
       "max      2,723,000\n",
       "Name: feat_27, dtype: object"
      ]
     },
     "execution_count": 21,
     "metadata": {},
     "output_type": "execute_result"
    }
   ],
   "source": [
    "# Summary statistics for 'feat_27'\n",
    "df[\"feat_27\"].describe().apply(\"{0:,.0f}\".format)"
   ]
  },
  {
   "cell_type": "markdown",
   "id": "1412a697",
   "metadata": {},
   "source": [
    "Note that the median is around 1, but the mean is over 1000. That suggests that this feature is skewed to the right.  so Let's make a histogram to see what the distribution actually looks like."
   ]
  },
  {
   "cell_type": "code",
   "execution_count": 22,
   "id": "6e23ebc3",
   "metadata": {},
   "outputs": [
    {
     "data": {
      "image/png": "[encoded data removed]",
      "text/plain": [
       "<Figure size 640x480 with 1 Axes>"
      ]
     },
     "metadata": {},
     "output_type": "display_data"
    }
   ],
   "source": [
    "# Plot histogram of 'feat_27'\n",
    "df[\"feat_27\"].hist()\n",
    "plt.xlabel(\"POA / financial expenses\")\n",
    "plt.ylabel(\"Count\"),\n",
    "plt.title(\"Distribution of Profit/Expenses Ratio\");"
   ]
  },
  {
   "cell_type": "markdown",
   "id": "cd7d180a",
   "metadata": {},
   "source": [
    "The data is very skewed. So, in order to create a helpful boxplot, the data must need to trim ."
   ]
  },
  {
   "cell_type": "code",
   "execution_count": 23,
   "id": "c1a7d1cf",
   "metadata": {},
   "outputs": [],
   "source": [
    "q1 , q2 = df[\"feat_27\"].quantile([0.1,0.9])\n",
    "mask=df[\"feat_27\"].between(q1,q2)"
   ]
  },
  {
   "cell_type": "code",
   "execution_count": 24,
   "id": "0f0a9e06",
   "metadata": {},
   "outputs": [
    {
     "data": {
      "image/png": "[encoded data removed]",
      "text/plain": [
       "<Figure size 640x480 with 1 Axes>"
      ]
     },
     "metadata": {},
     "output_type": "display_data"
    }
   ],
   "source": [
    "# Create clipped boxplot\n",
    "q1 , q2 = df[\"feat_27\"].quantile([0.1,0.9])\n",
    "mask=df[\"feat_27\"].between(q1,q2)\n",
    "sns.boxplot(x=\"bankrupt\",y=\"feat_27\",data=df[mask])\n",
    "plt.xlabel(\"Bankrupt\")\n",
    "plt.ylabel(\"POA / financial expenses\")\n",
    "plt.title(\"Distribution of Profit/Expenses Ratio, by Bankruptcy Status\");"
   ]
  },
  {
   "cell_type": "markdown",
   "id": "229e972b",
   "metadata": {},
   "source": [
    "Repeat the exploration for \"feat_27\" on two other features in the dataset to see if they have the same  skewed distribution or not"
   ]
  },
  {
   "cell_type": "code",
   "execution_count": 25,
   "id": "5e9c5c65",
   "metadata": {},
   "outputs": [
    {
     "data": {
      "text/plain": [
       "count        10,494\n",
       "mean          3,003\n",
       "std         109,203\n",
       "min      -2,321,800\n",
       "25%             187\n",
       "50%             806\n",
       "75%           2,187\n",
       "max      10,236,000\n",
       "Name: feat_15, dtype: object"
      ]
     },
     "execution_count": 25,
     "metadata": {},
     "output_type": "execute_result"
    }
   ],
   "source": [
    "# Explore another feature\n",
    "df[\"feat_15\"].describe().apply(\"{0:,.0f}\".format)"
   ]
  },
  {
   "cell_type": "code",
   "execution_count": 26,
   "id": "f7c1ba46",
   "metadata": {},
   "outputs": [
    {
     "data": {
      "image/png": "[encoded data removed]",
      "text/plain": [
       "<Figure size 640x480 with 1 Axes>"
      ]
     },
     "metadata": {},
     "output_type": "display_data"
    }
   ],
   "source": [
    "# Plot histogram of 'feat_15'\n",
    "df[\"feat_15\"].hist()\n",
    "plt.xlabel(\"POA / financial expenses\")\n",
    "plt.ylabel(\"Count\"),\n",
    "plt.title(\"Distribution of Profit/Expenses Ratio\");"
   ]
  },
  {
   "cell_type": "code",
   "execution_count": 27,
   "id": "93715ba9",
   "metadata": {},
   "outputs": [
    {
     "data": {
      "text/plain": [
       "count        9,910\n",
       "mean           571\n",
       "std         37,162\n",
       "min              0\n",
       "25%              6\n",
       "50%             10\n",
       "75%             21\n",
       "max      3,660,200\n",
       "Name: feat_60, dtype: object"
      ]
     },
     "execution_count": 27,
     "metadata": {},
     "output_type": "execute_result"
    }
   ],
   "source": [
    "# Explore another feature\n",
    "df[\"feat_60\"].describe().apply(\"{0:,.0f}\".format)"
   ]
  },
  {
   "cell_type": "code",
   "execution_count": 28,
   "id": "b2757941",
   "metadata": {},
   "outputs": [
    {
     "data": {
      "image/png": "[encoded data removed]",
      "text/plain": [
       "<Figure size 640x480 with 1 Axes>"
      ]
     },
     "metadata": {},
     "output_type": "display_data"
    }
   ],
   "source": [
    "# Plot histogram of 'feat_15'\n",
    "df[\"feat_60\"].hist()\n",
    "plt.xlabel(\"POA / financial expenses\")\n",
    "plt.ylabel(\"Count\"),\n",
    "plt.title(\"Distribution of Profit/Expenses Ratio\");"
   ]
  },
  {
   "cell_type": "markdown",
   "id": "9cd11d74",
   "metadata": {},
   "source": [
    "they're skewed, too. This will be important to keep in mind when I decide what type of model I want to use."
   ]
  },
  {
   "cell_type": "markdown",
   "id": "6a565a59",
   "metadata": {},
   "source": [
    "another important consideration for model selection is whether there are any issues with multicollinearity in the model"
   ]
  },
  {
   "cell_type": "code",
   "execution_count": 29,
   "id": "3b0dac31",
   "metadata": {},
   "outputs": [
    {
     "data": {
      "image/png": "[encoded data removed]",
      "text/plain": [
       "<Figure size 640x480 with 2 Axes>"
      ]
     },
     "metadata": {},
     "output_type": "display_data"
    }
   ],
   "source": [
    "corr =df.drop(columns=\"bankrupt\").corr()\n",
    "sns.heatmap(corr);"
   ]
  },
  {
   "cell_type": "markdown",
   "id": "771da244",
   "metadata": {},
   "source": [
    "# from EDA I think First, our data is imbalanced. This is something we need to address in our data preparation. Second, many of our features have missing values that we'll need to impute. And since the features are highly skewed, the best imputation strategy is likely median, not mean. Finally, we have autocorrelation issues, which means that we should steer clear of linear models, and try a tree-based model instead."
   ]
  },
  {
   "cell_type": "markdown",
   "id": "8b10feef",
   "metadata": {},
   "source": [
    "# Split"
   ]
  },
  {
   "cell_type": "code",
   "execution_count": 30,
   "id": "9347b65f",
   "metadata": {},
   "outputs": [
    {
     "name": "stdout",
     "output_type": "stream",
     "text": [
      "X shape: (10502, 64)\n",
      "y shape: (10502,)\n"
     ]
    }
   ],
   "source": [
    "target = \"bankrupt\"\n",
    "X =df.drop(columns=target)\n",
    "y =df[target]\n",
    "\n",
    "print(\"X shape:\", X.shape)\n",
    "print(\"y shape:\", y.shape)"
   ]
  },
  {
   "cell_type": "markdown",
   "id": "56d73b75",
   "metadata": {},
   "source": [
    "Divide the data (X and y) into training and test sets using a randomized train-test split."
   ]
  },
  {
   "cell_type": "code",
   "execution_count": 31,
   "id": "ed2bb282",
   "metadata": {},
   "outputs": [
    {
     "name": "stdout",
     "output_type": "stream",
     "text": [
      "X_train shape: (8401, 64)\n",
      "y_train shape: (8401,)\n",
      "X_test shape: (2101, 64)\n",
      "y_test shape: (2101,)\n"
     ]
    }
   ],
   "source": [
    "X_train, X_test, y_train, y_test =train_test_split(\n",
    "    X,y,test_size=0.2,random_state=42\n",
    ")\n",
    "\n",
    "print(\"X_train shape:\", X_train.shape)\n",
    "print(\"y_train shape:\", y_train.shape)\n",
    "print(\"X_test shape:\", X_test.shape)\n",
    "print(\"y_test shape:\", y_test.shape)"
   ]
  },
  {
   "cell_type": "markdown",
   "id": "cef20774",
   "metadata": {},
   "source": [
    "# Resample"
   ]
  },
  {
   "cell_type": "markdown",
   "id": "c213f18d",
   "metadata": {},
   "source": [
    "I can address the class imbalance I saw during our EDA. One strategy is to resample the training data. "
   ]
  },
  {
   "cell_type": "code",
   "execution_count": 32,
   "id": "5663a97e",
   "metadata": {},
   "outputs": [
    {
     "name": "stdout",
     "output_type": "stream",
     "text": [
      "(776, 64)\n"
     ]
    },
    {
     "data": {
      "text/html": [
       "<div>\n",
       "<style scoped>\n",
       "    .dataframe tbody tr th:only-of-type {\n",
       "        vertical-align: middle;\n",
       "    }\n",
       "\n",
       "    .dataframe tbody tr th {\n",
       "        vertical-align: top;\n",
       "    }\n",
       "\n",
       "    .dataframe thead th {\n",
       "        text-align: right;\n",
       "    }\n",
       "</style>\n",
       "<table border=\"1\" class=\"dataframe\">\n",
       "  <thead>\n",
       "    <tr style=\"text-align: right;\">\n",
       "      <th></th>\n",
       "      <th>feat_1</th>\n",
       "      <th>feat_2</th>\n",
       "      <th>feat_3</th>\n",
       "      <th>feat_4</th>\n",
       "      <th>feat_5</th>\n",
       "      <th>feat_6</th>\n",
       "      <th>feat_7</th>\n",
       "      <th>feat_8</th>\n",
       "      <th>feat_9</th>\n",
       "      <th>feat_10</th>\n",
       "      <th>...</th>\n",
       "      <th>feat_55</th>\n",
       "      <th>feat_56</th>\n",
       "      <th>feat_57</th>\n",
       "      <th>feat_58</th>\n",
       "      <th>feat_59</th>\n",
       "      <th>feat_60</th>\n",
       "      <th>feat_61</th>\n",
       "      <th>feat_62</th>\n",
       "      <th>feat_63</th>\n",
       "      <th>feat_64</th>\n",
       "    </tr>\n",
       "  </thead>\n",
       "  <tbody>\n",
       "    <tr>\n",
       "      <th>0</th>\n",
       "      <td>-0.046186</td>\n",
       "      <td>0.82856</td>\n",
       "      <td>-0.003189</td>\n",
       "      <td>0.98376</td>\n",
       "      <td>-31.036</td>\n",
       "      <td>-0.107780</td>\n",
       "      <td>-0.046186</td>\n",
       "      <td>0.206910</td>\n",
       "      <td>1.1201</td>\n",
       "      <td>0.171440</td>\n",
       "      <td>...</td>\n",
       "      <td>-0.881</td>\n",
       "      <td>-0.107620</td>\n",
       "      <td>-0.26941</td>\n",
       "      <td>1.03840</td>\n",
       "      <td>0.0</td>\n",
       "      <td>10.9830</td>\n",
       "      <td>12.3210</td>\n",
       "      <td>63.965</td>\n",
       "      <td>5.7063</td>\n",
       "      <td>1.3882</td>\n",
       "    </tr>\n",
       "    <tr>\n",
       "      <th>1</th>\n",
       "      <td>-0.067285</td>\n",
       "      <td>0.96818</td>\n",
       "      <td>0.034200</td>\n",
       "      <td>1.03620</td>\n",
       "      <td>-12.879</td>\n",
       "      <td>-0.085973</td>\n",
       "      <td>-0.068118</td>\n",
       "      <td>0.032868</td>\n",
       "      <td>3.0064</td>\n",
       "      <td>0.031822</td>\n",
       "      <td>...</td>\n",
       "      <td>19.630</td>\n",
       "      <td>0.001544</td>\n",
       "      <td>-2.11440</td>\n",
       "      <td>1.02270</td>\n",
       "      <td>0.0</td>\n",
       "      <td>21.2550</td>\n",
       "      <td>4.3755</td>\n",
       "      <td>114.730</td>\n",
       "      <td>3.1813</td>\n",
       "      <td>144.7400</td>\n",
       "    </tr>\n",
       "    <tr>\n",
       "      <th>2</th>\n",
       "      <td>0.489200</td>\n",
       "      <td>0.12948</td>\n",
       "      <td>0.660240</td>\n",
       "      <td>6.09910</td>\n",
       "      <td>445.260</td>\n",
       "      <td>0.000000</td>\n",
       "      <td>0.489200</td>\n",
       "      <td>6.723200</td>\n",
       "      <td>2.4824</td>\n",
       "      <td>0.870520</td>\n",
       "      <td>...</td>\n",
       "      <td>1197.300</td>\n",
       "      <td>0.196370</td>\n",
       "      <td>0.56196</td>\n",
       "      <td>0.80601</td>\n",
       "      <td>0.0</td>\n",
       "      <td>30.8160</td>\n",
       "      <td>14.3070</td>\n",
       "      <td>19.038</td>\n",
       "      <td>19.1720</td>\n",
       "      <td>11.8050</td>\n",
       "    </tr>\n",
       "    <tr>\n",
       "      <th>3</th>\n",
       "      <td>0.180040</td>\n",
       "      <td>0.12182</td>\n",
       "      <td>0.836760</td>\n",
       "      <td>7.86900</td>\n",
       "      <td>108.120</td>\n",
       "      <td>0.000000</td>\n",
       "      <td>0.225840</td>\n",
       "      <td>7.209100</td>\n",
       "      <td>3.0126</td>\n",
       "      <td>0.878180</td>\n",
       "      <td>...</td>\n",
       "      <td>846.410</td>\n",
       "      <td>0.067960</td>\n",
       "      <td>0.20501</td>\n",
       "      <td>0.92556</td>\n",
       "      <td>0.0</td>\n",
       "      <td>NaN</td>\n",
       "      <td>12.4210</td>\n",
       "      <td>14.759</td>\n",
       "      <td>24.7300</td>\n",
       "      <td>72.7200</td>\n",
       "    </tr>\n",
       "    <tr>\n",
       "      <th>4</th>\n",
       "      <td>0.134360</td>\n",
       "      <td>0.19862</td>\n",
       "      <td>0.722900</td>\n",
       "      <td>4.63960</td>\n",
       "      <td>137.880</td>\n",
       "      <td>0.000000</td>\n",
       "      <td>0.170570</td>\n",
       "      <td>4.034800</td>\n",
       "      <td>1.3154</td>\n",
       "      <td>0.801380</td>\n",
       "      <td>...</td>\n",
       "      <td>1620.800</td>\n",
       "      <td>0.148340</td>\n",
       "      <td>0.16767</td>\n",
       "      <td>0.87244</td>\n",
       "      <td>0.0</td>\n",
       "      <td>5.0272</td>\n",
       "      <td>2.9463</td>\n",
       "      <td>55.111</td>\n",
       "      <td>6.6230</td>\n",
       "      <td>16.7620</td>\n",
       "    </tr>\n",
       "  </tbody>\n",
       "</table>\n",
       "<p>5 rows × 64 columns</p>\n",
       "</div>"
      ],
      "text/plain": [
       "     feat_1   feat_2    feat_3   feat_4   feat_5    feat_6    feat_7  \\\n",
       "0 -0.046186  0.82856 -0.003189  0.98376  -31.036 -0.107780 -0.046186   \n",
       "1 -0.067285  0.96818  0.034200  1.03620  -12.879 -0.085973 -0.068118   \n",
       "2  0.489200  0.12948  0.660240  6.09910  445.260  0.000000  0.489200   \n",
       "3  0.180040  0.12182  0.836760  7.86900  108.120  0.000000  0.225840   \n",
       "4  0.134360  0.19862  0.722900  4.63960  137.880  0.000000  0.170570   \n",
       "\n",
       "     feat_8  feat_9   feat_10  ...   feat_55   feat_56  feat_57  feat_58  \\\n",
       "0  0.206910  1.1201  0.171440  ...    -0.881 -0.107620 -0.26941  1.03840   \n",
       "1  0.032868  3.0064  0.031822  ...    19.630  0.001544 -2.11440  1.02270   \n",
       "2  6.723200  2.4824  0.870520  ...  1197.300  0.196370  0.56196  0.80601   \n",
       "3  7.209100  3.0126  0.878180  ...   846.410  0.067960  0.20501  0.92556   \n",
       "4  4.034800  1.3154  0.801380  ...  1620.800  0.148340  0.16767  0.87244   \n",
       "\n",
       "   feat_59  feat_60  feat_61  feat_62  feat_63   feat_64  \n",
       "0      0.0  10.9830  12.3210   63.965   5.7063    1.3882  \n",
       "1      0.0  21.2550   4.3755  114.730   3.1813  144.7400  \n",
       "2      0.0  30.8160  14.3070   19.038  19.1720   11.8050  \n",
       "3      0.0      NaN  12.4210   14.759  24.7300   72.7200  \n",
       "4      0.0   5.0272   2.9463   55.111   6.6230   16.7620  \n",
       "\n",
       "[5 rows x 64 columns]"
      ]
     },
     "execution_count": 32,
     "metadata": {},
     "output_type": "execute_result"
    }
   ],
   "source": [
    "under_sampler =RandomUnderSampler(random_state=42)\n",
    "X_train_under, y_train_under =under_sampler.fit_resample(X_train,y_train)\n",
    "print(X_train_under.shape)\n",
    "X_train_under.head()"
   ]
  },
  {
   "cell_type": "code",
   "execution_count": 33,
   "id": "f2fcb650",
   "metadata": {},
   "outputs": [
    {
     "data": {
      "text/plain": [
       "False    0.5\n",
       "True     0.5\n",
       "Name: bankrupt, dtype: float64"
      ]
     },
     "execution_count": 33,
     "metadata": {},
     "output_type": "execute_result"
    }
   ],
   "source": [
    "y_train_under.value_counts(normalize=True)"
   ]
  },
  {
   "cell_type": "markdown",
   "id": "b47a45ae",
   "metadata": {},
   "source": [
    "And then  over-sample."
   ]
  },
  {
   "cell_type": "code",
   "execution_count": 34,
   "id": "d94f2e73",
   "metadata": {
    "scrolled": true
   },
   "outputs": [
    {
     "name": "stdout",
     "output_type": "stream",
     "text": [
      "(16026, 64)\n"
     ]
    },
    {
     "data": {
      "text/html": [
       "<div>\n",
       "<style scoped>\n",
       "    .dataframe tbody tr th:only-of-type {\n",
       "        vertical-align: middle;\n",
       "    }\n",
       "\n",
       "    .dataframe tbody tr th {\n",
       "        vertical-align: top;\n",
       "    }\n",
       "\n",
       "    .dataframe thead th {\n",
       "        text-align: right;\n",
       "    }\n",
       "</style>\n",
       "<table border=\"1\" class=\"dataframe\">\n",
       "  <thead>\n",
       "    <tr style=\"text-align: right;\">\n",
       "      <th></th>\n",
       "      <th>feat_1</th>\n",
       "      <th>feat_2</th>\n",
       "      <th>feat_3</th>\n",
       "      <th>feat_4</th>\n",
       "      <th>feat_5</th>\n",
       "      <th>feat_6</th>\n",
       "      <th>feat_7</th>\n",
       "      <th>feat_8</th>\n",
       "      <th>feat_9</th>\n",
       "      <th>feat_10</th>\n",
       "      <th>...</th>\n",
       "      <th>feat_55</th>\n",
       "      <th>feat_56</th>\n",
       "      <th>feat_57</th>\n",
       "      <th>feat_58</th>\n",
       "      <th>feat_59</th>\n",
       "      <th>feat_60</th>\n",
       "      <th>feat_61</th>\n",
       "      <th>feat_62</th>\n",
       "      <th>feat_63</th>\n",
       "      <th>feat_64</th>\n",
       "    </tr>\n",
       "  </thead>\n",
       "  <tbody>\n",
       "    <tr>\n",
       "      <th>0</th>\n",
       "      <td>0.125190</td>\n",
       "      <td>0.21204</td>\n",
       "      <td>-0.043561</td>\n",
       "      <td>0.76704</td>\n",
       "      <td>-26.932</td>\n",
       "      <td>0.427400</td>\n",
       "      <td>0.155220</td>\n",
       "      <td>3.7142</td>\n",
       "      <td>1.1762</td>\n",
       "      <td>0.78757</td>\n",
       "      <td>...</td>\n",
       "      <td>-5127.20</td>\n",
       "      <td>0.149790</td>\n",
       "      <td>0.158960</td>\n",
       "      <td>0.85021</td>\n",
       "      <td>0.031808</td>\n",
       "      <td>68.9750</td>\n",
       "      <td>10.7120</td>\n",
       "      <td>63.477</td>\n",
       "      <td>5.7501</td>\n",
       "      <td>1.2553</td>\n",
       "    </tr>\n",
       "    <tr>\n",
       "      <th>1</th>\n",
       "      <td>0.151860</td>\n",
       "      <td>0.33255</td>\n",
       "      <td>0.162240</td>\n",
       "      <td>1.49510</td>\n",
       "      <td>-235.790</td>\n",
       "      <td>0.000000</td>\n",
       "      <td>0.151860</td>\n",
       "      <td>2.0071</td>\n",
       "      <td>2.1377</td>\n",
       "      <td>0.66745</td>\n",
       "      <td>...</td>\n",
       "      <td>510.24</td>\n",
       "      <td>0.067150</td>\n",
       "      <td>0.227530</td>\n",
       "      <td>0.96277</td>\n",
       "      <td>0.000000</td>\n",
       "      <td>9.1247</td>\n",
       "      <td>11.1640</td>\n",
       "      <td>55.948</td>\n",
       "      <td>6.5239</td>\n",
       "      <td>4.1908</td>\n",
       "    </tr>\n",
       "    <tr>\n",
       "      <th>2</th>\n",
       "      <td>0.014939</td>\n",
       "      <td>0.75205</td>\n",
       "      <td>-0.137180</td>\n",
       "      <td>0.70350</td>\n",
       "      <td>-86.458</td>\n",
       "      <td>0.000000</td>\n",
       "      <td>0.019940</td>\n",
       "      <td>0.3297</td>\n",
       "      <td>1.0772</td>\n",
       "      <td>0.24795</td>\n",
       "      <td>...</td>\n",
       "      <td>-1014.60</td>\n",
       "      <td>0.006676</td>\n",
       "      <td>0.060252</td>\n",
       "      <td>0.98573</td>\n",
       "      <td>0.000000</td>\n",
       "      <td>9.6894</td>\n",
       "      <td>11.6890</td>\n",
       "      <td>156.780</td>\n",
       "      <td>2.3281</td>\n",
       "      <td>1.5970</td>\n",
       "    </tr>\n",
       "    <tr>\n",
       "      <th>3</th>\n",
       "      <td>0.000000</td>\n",
       "      <td>0.19330</td>\n",
       "      <td>0.165590</td>\n",
       "      <td>1.96570</td>\n",
       "      <td>24.238</td>\n",
       "      <td>-0.006545</td>\n",
       "      <td>-0.006545</td>\n",
       "      <td>4.1734</td>\n",
       "      <td>1.2443</td>\n",
       "      <td>0.80670</td>\n",
       "      <td>...</td>\n",
       "      <td>13029.00</td>\n",
       "      <td>0.179170</td>\n",
       "      <td>0.000000</td>\n",
       "      <td>0.82534</td>\n",
       "      <td>0.005453</td>\n",
       "      <td>12.8300</td>\n",
       "      <td>6.6118</td>\n",
       "      <td>50.298</td>\n",
       "      <td>7.2567</td>\n",
       "      <td>1.8770</td>\n",
       "    </tr>\n",
       "    <tr>\n",
       "      <th>4</th>\n",
       "      <td>0.303560</td>\n",
       "      <td>0.34142</td>\n",
       "      <td>0.634200</td>\n",
       "      <td>2.96060</td>\n",
       "      <td>236.980</td>\n",
       "      <td>0.000000</td>\n",
       "      <td>0.303560</td>\n",
       "      <td>1.9290</td>\n",
       "      <td>1.1622</td>\n",
       "      <td>0.65858</td>\n",
       "      <td>...</td>\n",
       "      <td>1758.40</td>\n",
       "      <td>0.288120</td>\n",
       "      <td>0.460940</td>\n",
       "      <td>0.74396</td>\n",
       "      <td>0.027254</td>\n",
       "      <td>12.7640</td>\n",
       "      <td>1.3530</td>\n",
       "      <td>101.590</td>\n",
       "      <td>3.5928</td>\n",
       "      <td>27.4580</td>\n",
       "    </tr>\n",
       "  </tbody>\n",
       "</table>\n",
       "<p>5 rows × 64 columns</p>\n",
       "</div>"
      ],
      "text/plain": [
       "     feat_1   feat_2    feat_3   feat_4   feat_5    feat_6    feat_7  feat_8  \\\n",
       "0  0.125190  0.21204 -0.043561  0.76704  -26.932  0.427400  0.155220  3.7142   \n",
       "1  0.151860  0.33255  0.162240  1.49510 -235.790  0.000000  0.151860  2.0071   \n",
       "2  0.014939  0.75205 -0.137180  0.70350  -86.458  0.000000  0.019940  0.3297   \n",
       "3  0.000000  0.19330  0.165590  1.96570   24.238 -0.006545 -0.006545  4.1734   \n",
       "4  0.303560  0.34142  0.634200  2.96060  236.980  0.000000  0.303560  1.9290   \n",
       "\n",
       "   feat_9  feat_10  ...   feat_55   feat_56   feat_57  feat_58   feat_59  \\\n",
       "0  1.1762  0.78757  ...  -5127.20  0.149790  0.158960  0.85021  0.031808   \n",
       "1  2.1377  0.66745  ...    510.24  0.067150  0.227530  0.96277  0.000000   \n",
       "2  1.0772  0.24795  ...  -1014.60  0.006676  0.060252  0.98573  0.000000   \n",
       "3  1.2443  0.80670  ...  13029.00  0.179170  0.000000  0.82534  0.005453   \n",
       "4  1.1622  0.65858  ...   1758.40  0.288120  0.460940  0.74396  0.027254   \n",
       "\n",
       "   feat_60  feat_61  feat_62  feat_63  feat_64  \n",
       "0  68.9750  10.7120   63.477   5.7501   1.2553  \n",
       "1   9.1247  11.1640   55.948   6.5239   4.1908  \n",
       "2   9.6894  11.6890  156.780   2.3281   1.5970  \n",
       "3  12.8300   6.6118   50.298   7.2567   1.8770  \n",
       "4  12.7640   1.3530  101.590   3.5928  27.4580  \n",
       "\n",
       "[5 rows x 64 columns]"
      ]
     },
     "execution_count": 34,
     "metadata": {},
     "output_type": "execute_result"
    }
   ],
   "source": [
    "over_sampler =RandomOverSampler(random_state=42)\n",
    "X_train_over, y_train_over =over_sampler.fit_resample(X_train,y_train)\n",
    "print(X_train_over.shape)\n",
    "X_train_over.head()"
   ]
  },
  {
   "cell_type": "code",
   "execution_count": 35,
   "id": "d360fa60",
   "metadata": {},
   "outputs": [
    {
     "data": {
      "text/plain": [
       "False    0.5\n",
       "True     0.5\n",
       "Name: bankrupt, dtype: float64"
      ]
     },
     "execution_count": 35,
     "metadata": {},
     "output_type": "execute_result"
    }
   ],
   "source": [
    "y_train_over.value_counts(normalize=True)"
   ]
  },
  {
   "cell_type": "markdown",
   "id": "427d9be2",
   "metadata": {},
   "source": [
    "# Build Model"
   ]
  },
  {
   "cell_type": "markdown",
   "id": "cb370386",
   "metadata": {},
   "source": [
    "# Baseline"
   ]
  },
  {
   "cell_type": "code",
   "execution_count": 36,
   "id": "9ca9fdde",
   "metadata": {},
   "outputs": [
    {
     "name": "stdout",
     "output_type": "stream",
     "text": [
      "Baseline Accuracy: 0.9538\n"
     ]
    }
   ],
   "source": [
    "acc_baseline = y_train.value_counts(normalize=True).max()\n",
    "print(\"Baseline Accuracy:\", round(acc_baseline, 4))"
   ]
  },
  {
   "cell_type": "markdown",
   "id": "08a2625f",
   "metadata": {},
   "source": [
    "Note here that, because  the classes are imbalanced, the baseline accuracy is very high.so should keep this in mind because, even if  trained model gets a high validation accuracy score, that doesn't mean it's actually good."
   ]
  },
  {
   "cell_type": "markdown",
   "id": "461f209a",
   "metadata": {},
   "source": [
    "# Iterate"
   ]
  },
  {
   "cell_type": "markdown",
   "id": "d985ab44",
   "metadata": {},
   "source": [
    "Create three identical models: model_reg, model_under and model_over. All of them should use a SimpleImputer followed by a DecisionTreeClassifier"
   ]
  },
  {
   "cell_type": "code",
   "execution_count": 37,
   "id": "f892400e",
   "metadata": {},
   "outputs": [
    {
     "data": {
      "text/html": [
       "<style>#sk-container-id-1 {color: black;background-color: white;}#sk-container-id-1 pre{padding: 0;}#sk-container-id-1 div.sk-toggleable {background-color: white;}#sk-container-id-1 label.sk-toggleable__label {cursor: pointer;display: block;width: 100%;margin-bottom: 0;padding: 0.3em;box-sizing: border-box;text-align: center;}#sk-container-id-1 label.sk-toggleable__label-arrow:before {content: \"▸\";float: left;margin-right: 0.25em;color: #696969;}#sk-container-id-1 label.sk-toggleable__label-arrow:hover:before {color: black;}#sk-container-id-1 div.sk-estimator:hover label.sk-toggleable__label-arrow:before {color: black;}#sk-container-id-1 div.sk-toggleable__content {max-height: 0;max-width: 0;overflow: hidden;text-align: left;background-color: #f0f8ff;}#sk-container-id-1 div.sk-toggleable__content pre {margin: 0.2em;color: black;border-radius: 0.25em;background-color: #f0f8ff;}#sk-container-id-1 input.sk-toggleable__control:checked~div.sk-toggleable__content {max-height: 200px;max-width: 100%;overflow: auto;}#sk-container-id-1 input.sk-toggleable__control:checked~label.sk-toggleable__label-arrow:before {content: \"▾\";}#sk-container-id-1 div.sk-estimator input.sk-toggleable__control:checked~label.sk-toggleable__label {background-color: #d4ebff;}#sk-container-id-1 div.sk-label input.sk-toggleable__control:checked~label.sk-toggleable__label {background-color: #d4ebff;}#sk-container-id-1 input.sk-hidden--visually {border: 0;clip: rect(1px 1px 1px 1px);clip: rect(1px, 1px, 1px, 1px);height: 1px;margin: -1px;overflow: hidden;padding: 0;position: absolute;width: 1px;}#sk-container-id-1 div.sk-estimator {font-family: monospace;background-color: #f0f8ff;border: 1px dotted black;border-radius: 0.25em;box-sizing: border-box;margin-bottom: 0.5em;}#sk-container-id-1 div.sk-estimator:hover {background-color: #d4ebff;}#sk-container-id-1 div.sk-parallel-item::after {content: \"\";width: 100%;border-bottom: 1px solid gray;flex-grow: 1;}#sk-container-id-1 div.sk-label:hover label.sk-toggleable__label {background-color: #d4ebff;}#sk-container-id-1 div.sk-serial::before {content: \"\";position: absolute;border-left: 1px solid gray;box-sizing: border-box;top: 0;bottom: 0;left: 50%;z-index: 0;}#sk-container-id-1 div.sk-serial {display: flex;flex-direction: column;align-items: center;background-color: white;padding-right: 0.2em;padding-left: 0.2em;position: relative;}#sk-container-id-1 div.sk-item {position: relative;z-index: 1;}#sk-container-id-1 div.sk-parallel {display: flex;align-items: stretch;justify-content: center;background-color: white;position: relative;}#sk-container-id-1 div.sk-item::before, #sk-container-id-1 div.sk-parallel-item::before {content: \"\";position: absolute;border-left: 1px solid gray;box-sizing: border-box;top: 0;bottom: 0;left: 50%;z-index: -1;}#sk-container-id-1 div.sk-parallel-item {display: flex;flex-direction: column;z-index: 1;position: relative;background-color: white;}#sk-container-id-1 div.sk-parallel-item:first-child::after {align-self: flex-end;width: 50%;}#sk-container-id-1 div.sk-parallel-item:last-child::after {align-self: flex-start;width: 50%;}#sk-container-id-1 div.sk-parallel-item:only-child::after {width: 0;}#sk-container-id-1 div.sk-dashed-wrapped {border: 1px dashed gray;margin: 0 0.4em 0.5em 0.4em;box-sizing: border-box;padding-bottom: 0.4em;background-color: white;}#sk-container-id-1 div.sk-label label {font-family: monospace;font-weight: bold;display: inline-block;line-height: 1.2em;}#sk-container-id-1 div.sk-label-container {text-align: center;}#sk-container-id-1 div.sk-container {/* jupyter's `normalize.less` sets `[hidden] { display: none; }` but bootstrap.min.css set `[hidden] { display: none !important; }` so we also need the `!important` here to be able to override the default hidden behavior on the sphinx rendered scikit-learn.org. See: https://github.com/scikit-learn/scikit-learn/issues/21755 */display: inline-block !important;position: relative;}#sk-container-id-1 div.sk-text-repr-fallback {display: none;}</style><div id=\"sk-container-id-1\" class=\"sk-top-container\"><div class=\"sk-text-repr-fallback\"><pre>Pipeline(steps=[(&#x27;simpleimputer&#x27;, SimpleImputer(strategy=&#x27;median&#x27;)),\n",
       "                (&#x27;decisiontreeclassifier&#x27;,\n",
       "                 DecisionTreeClassifier(random_state=42))])</pre><b>In a Jupyter environment, please rerun this cell to show the HTML representation or trust the notebook. <br />On GitHub, the HTML representation is unable to render, please try loading this page with nbviewer.org.</b></div><div class=\"sk-container\" hidden><div class=\"sk-item sk-dashed-wrapped\"><div class=\"sk-label-container\"><div class=\"sk-label sk-toggleable\"><input class=\"sk-toggleable__control sk-hidden--visually\" id=\"sk-estimator-id-1\" type=\"checkbox\" ><label for=\"sk-estimator-id-1\" class=\"sk-toggleable__label sk-toggleable__label-arrow\">Pipeline</label><div class=\"sk-toggleable__content\"><pre>Pipeline(steps=[(&#x27;simpleimputer&#x27;, SimpleImputer(strategy=&#x27;median&#x27;)),\n",
       "                (&#x27;decisiontreeclassifier&#x27;,\n",
       "                 DecisionTreeClassifier(random_state=42))])</pre></div></div></div><div class=\"sk-serial\"><div class=\"sk-item\"><div class=\"sk-estimator sk-toggleable\"><input class=\"sk-toggleable__control sk-hidden--visually\" id=\"sk-estimator-id-2\" type=\"checkbox\" ><label for=\"sk-estimator-id-2\" class=\"sk-toggleable__label sk-toggleable__label-arrow\">SimpleImputer</label><div class=\"sk-toggleable__content\"><pre>SimpleImputer(strategy=&#x27;median&#x27;)</pre></div></div></div><div class=\"sk-item\"><div class=\"sk-estimator sk-toggleable\"><input class=\"sk-toggleable__control sk-hidden--visually\" id=\"sk-estimator-id-3\" type=\"checkbox\" ><label for=\"sk-estimator-id-3\" class=\"sk-toggleable__label sk-toggleable__label-arrow\">DecisionTreeClassifier</label><div class=\"sk-toggleable__content\"><pre>DecisionTreeClassifier(random_state=42)</pre></div></div></div></div></div></div></div>"
      ],
      "text/plain": [
       "Pipeline(steps=[('simpleimputer', SimpleImputer(strategy='median')),\n",
       "                ('decisiontreeclassifier',\n",
       "                 DecisionTreeClassifier(random_state=42))])"
      ]
     },
     "execution_count": 37,
     "metadata": {},
     "output_type": "execute_result"
    }
   ],
   "source": [
    "# Fit on `X_train`, `y_train`\n",
    "model_reg =make_pipeline(\n",
    "    SimpleImputer(strategy=\"median\"),DecisionTreeClassifier(random_state=42)\n",
    ")\n",
    "model_reg.fit(X_train,y_train)\n",
    "\n",
    "# Fit on `X_train_under`, `y_train_under`\n",
    "model_under =make_pipeline(\n",
    "    SimpleImputer(strategy=\"median\"),DecisionTreeClassifier(random_state=42)\n",
    ")\n",
    "model_under.fit(X_train_under, y_train_under)\n",
    "\n",
    "# Fit on `X_train_over`, `y_train_over`\n",
    "model_over =make_pipeline(\n",
    "    SimpleImputer(strategy=\"median\"),DecisionTreeClassifier(random_state=42)\n",
    ")\n",
    "model_over.fit(X_train_over,y_train_over)"
   ]
  },
  {
   "cell_type": "markdown",
   "id": "449e2892",
   "metadata": {},
   "source": [
    "# Evaluate"
   ]
  },
  {
   "cell_type": "markdown",
   "id": "baee9698",
   "metadata": {},
   "source": [
    " calculate training and test accuracy for your three models."
   ]
  },
  {
   "cell_type": "code",
   "execution_count": 38,
   "id": "d206c3ae",
   "metadata": {},
   "outputs": [
    {
     "name": "stdout",
     "output_type": "stream",
     "text": [
      "Training Accuracy: 1.0\n",
      "Test Accuracy: 1.0\n",
      "Training Accuracy: 0.7061\n",
      "Test Accuracy: 0.7061\n",
      "Training Accuracy: 1.0\n",
      "Test Accuracy: 1.0\n"
     ]
    }
   ],
   "source": [
    "for m in [model_reg, model_under, model_over]:\n",
    "    acc_train =m.score(X_train,y_train)\n",
    "    acc_test =m.score(X_train,y_train)\n",
    "\n",
    "    print(\"Training Accuracy:\", round(acc_train, 4))\n",
    "    print(\"Test Accuracy:\", round(acc_test, 4))"
   ]
  },
  {
   "cell_type": "markdown",
   "id": "a41193e5",
   "metadata": {},
   "source": [
    "\"good\" accuracy scores don't tell us much about the model's performance when dealing with imbalanced data. So instead of looking at what the model got right or wrong, let's see how its predictions differ for the two classes in the dataset."
   ]
  },
  {
   "cell_type": "markdown",
   "id": "df0c1b2b",
   "metadata": {},
   "source": [
    "Plot a confusion matrix that shows how your best model performs on your validation set."
   ]
  },
  {
   "cell_type": "code",
   "execution_count": 39,
   "id": "6e2e0ebc",
   "metadata": {
    "scrolled": true
   },
   "outputs": [
    {
     "data": {
      "image/png": "[encoded data removed]",
      "text/plain": [
       "<Figure size 640x480 with 2 Axes>"
      ]
     },
     "metadata": {},
     "output_type": "display_data"
    }
   ],
   "source": [
    "# Plot confusion matrix\n",
    "ConfusionMatrixDisplay.from_estimator(model_reg,X_test,y_test);"
   ]
  },
  {
   "cell_type": "markdown",
   "id": "fd8b63b4",
   "metadata": {},
   "source": [
    "# Communicate"
   ]
  },
  {
   "cell_type": "markdown",
   "id": "c3a9a099",
   "metadata": {},
   "source": [
    "I have a reasonable model, let's graph the importance of each feature\n"
   ]
  },
  {
   "cell_type": "code",
   "execution_count": 40,
   "id": "4ba0817b",
   "metadata": {},
   "outputs": [
    {
     "data": {
      "image/png": "[encoded data removed]",
      "text/plain": [
       "<Figure size 640x480 with 1 Axes>"
      ]
     },
     "metadata": {},
     "output_type": "display_data"
    }
   ],
   "source": [
    "# Get importances\n",
    "importances =model_over.named_steps[\"decisiontreeclassifier\"].feature_importances_\n",
    "\n",
    "# Put importances into a Series\n",
    "feat_imp =pd.Series(importances,index=X_train_over.columns).sort_values()\n",
    "\n",
    "# Plot series\n",
    "feat_imp.tail(15).plot(kind=\"barh\")\n",
    "plt.xlabel(\"Gini Importance\")\n",
    "plt.ylabel(\"Feature\")\n",
    "plt.title(\"model_over Feature Importance\");"
   ]
  },
  {
   "cell_type": "markdown",
   "id": "0630cf21",
   "metadata": {},
   "source": [
    "There's our old friend \"feat_27\" near the top, along with features 34 and 26. I think it is Good jop"
   ]
  }
 ],
 "metadata": {
  "kernelspec": {
   "display_name": "Python 3 (ipykernel)",
   "language": "python",
   "name": "python3"
  },
  "language_info": {
   "codemirror_mode": {
    "name": "ipython",
    "version": 3
   },
   "file_extension": ".py",
   "mimetype": "text/x-python",
   "name": "python",
   "nbconvert_exporter": "python",
   "pygments_lexer": "ipython3",
   "version": "3.10.9"
  }
 },
 "nbformat": 4,
 "nbformat_minor": 5
}
